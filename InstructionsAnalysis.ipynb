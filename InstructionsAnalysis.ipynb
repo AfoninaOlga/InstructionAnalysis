{
 "cells": [
  {
   "cell_type": "markdown",
   "id": "74072fd5",
   "metadata": {},
   "source": [
    "# Analysis of instructions used by app"
   ]
  },
  {
   "cell_type": "code",
   "execution_count": 68,
   "id": "3b33959e",
   "metadata": {},
   "outputs": [],
   "source": [
    "from pathlib import Path\n",
    "\n",
    "import pandas as pd\n",
    "import plotly.express as px\n",
    "import re\n",
    "import subprocess as sp"
   ]
  },
  {
   "cell_type": "code",
   "execution_count": 69,
   "id": "158c0128",
   "metadata": {},
   "outputs": [],
   "source": [
    "path_to_objdump = \"objdump\"\n",
    "objdump_args = [\"-d\", \"--no-show-raw-insn\", \"--no-addresses\"]\n",
    "instruction_regex = r\"^\\s+([a-z]\\S+)(\\s+\\S+)*$\"\n",
    "instruction_column = \"Instruction\""
   ]
  },
  {
   "cell_type": "code",
   "execution_count": 70,
   "id": "e9fe2ca0",
   "metadata": {},
   "outputs": [
    {
     "name": "stdout",
     "output_type": "stream",
     "text": [
      "GNU objdump (GNU Binutils for Ubuntu) 2.38\n",
      "Copyright (C) 2022 Free Software Foundation, Inc.\n",
      "This program is free software; you may redistribute it under the terms of\n",
      "the GNU General Public License version 3 or (at your option) any later version.\n",
      "This program has absolutely no warranty.\n"
     ]
    }
   ],
   "source": [
    "def validate_objdump(path: str) -> None:\n",
    "    completed_process = sp.run([path, \"-v\"], capture_output=False)\n",
    "    completed_process.check_returncode()\n",
    "\n",
    "validate_objdump(path_to_objdump)"
   ]
  },
  {
   "cell_type": "code",
   "execution_count": 71,
   "id": "6455dd56",
   "metadata": {},
   "outputs": [],
   "source": [
    "def get_elf_instructions(path_to_elf: Path, name: str|None=None) -> pd.DataFrame:\n",
    "    instructions_count = dict()\n",
    "    completed_process = sp.run([path_to_objdump, *objdump_args, path_to_elf], capture_output=True)\n",
    "    completed_process.check_returncode()\n",
    "    for line in completed_process.stdout.decode(\"utf-8\").splitlines():\n",
    "        m = re.match(instruction_regex, line)\n",
    "        if m:\n",
    "            instruction = m.group(1)\n",
    "            if instruction not in instructions_count:\n",
    "                instructions_count[instruction] = 1\n",
    "            else:\n",
    "                instructions_count[instruction] += 1\n",
    "    column = name if name else str(path_to_elf)\n",
    "    return pd.DataFrame.from_dict(data=instructions_count, columns=[column], orient='index').sort_values(by=[column], ascending=False)\n",
    "    "
   ]
  },
  {
   "cell_type": "markdown",
   "id": "6b438433",
   "metadata": {},
   "source": [
    "## Statistics of *grep* and *sed*"
   ]
  },
  {
   "cell_type": "code",
   "execution_count": 72,
   "id": "978001e7",
   "metadata": {},
   "outputs": [
    {
     "data": {
      "text/plain": [
       "mov       4599.0\n",
       "call       948.0\n",
       "test       562.0\n",
       "je         609.0\n",
       "cmp        738.0\n",
       "           ...  \n",
       "divsd        1.0\n",
       "btcq         1.0\n",
       "setge        0.0\n",
       "setle        0.0\n",
       "cmovge       0.0\n",
       "Name: sort, Length: 156, dtype: float64"
      ]
     },
     "execution_count": 72,
     "metadata": {},
     "output_type": "execute_result"
    }
   ],
   "source": [
    "grep_statistics = get_elf_instructions(Path(\"/usr/bin/grep\"), name=\"grep\")\n",
    "sed_statistics = get_elf_instructions(Path(\"/usr/bin/sed\"), name=\"sed\")\n",
    "sort_statistics = get_elf_instructions(Path(\"/usr/bin/sort\"), name=\"sort\")\n",
    "diff_statistics = get_elf_instructions(Path(\"/usr/bin/diff\"), name=\"diff\")\n",
    "\n",
    "dfs = [grep_statistics, sed_statistics, sort_statistics, diff_statistics]\n",
    "nan_value = 0\n",
    "summary = pd.concat(dfs, join='outer', axis=1).fillna(nan_value)\n",
    "summary.loc[:,'sort']"
   ]
  },
  {
   "cell_type": "markdown",
   "id": "5b3f3904",
   "metadata": {},
   "source": [
    "### Visualization with plotly"
   ]
  },
  {
   "cell_type": "code",
   "execution_count": 73,
   "id": "1a2cdb18",
   "metadata": {},
   "outputs": [
    {
     "data": {
      "application/vnd.plotly.v1+json": {
       "config": {
        "plotlyServerURL": "https://plot.ly"
       },
       "data": [
        {
         "alignmentgroup": "True",
         "bingroup": "x",
         "histfunc": "sum",
         "hovertemplate": "variable=grep<br>index=%{x}<br>sum of value=%{y}<extra></extra>",
         "legendgroup": "grep",
         "marker": {
          "color": "#636efa",
          "pattern": {
           "shape": ""
          }
         },
         "name": "grep",
         "offsetgroup": "grep",
         "orientation": "v",
         "showlegend": true,
         "type": "histogram",
         "x": [
          "mov",
          "call",
          "test",
          "je",
          "cmp",
          "jmp",
          "lea",
          "jne",
          "add",
          "xor",
          "nopl",
          "movzbl",
          "push",
          "pop",
          "sub",
          "movq",
          "cmpb",
          "movb",
          "and",
          "bnd",
          "nop",
          "punpcklwd",
          "shl",
          "nopw",
          "jle",
          "movdqu",
          "movdqa",
          "jbe",
          "jg",
          "ja",
          "cmpq",
          "punpckhwd",
          "movl",
          "or",
          "jl",
          "movups",
          "movabs",
          "shr",
          "movslq",
          "js",
          "jae",
          "jo",
          "xchg",
          "movaps",
          "cs",
          "pand",
          "jb",
          "jge",
          "sete",
          "cmovae",
          "imul",
          "comiss",
          "cmpl",
          "pxor",
          "sar",
          "movsbl",
          "data16",
          "jns",
          "testb",
          "cmovle",
          "cmovne",
          "mul",
          "packuswb",
          "movss",
          "setne",
          "punpcklqdq",
          "movzwl",
          "addq",
          "not",
          "cmove",
          "mulss",
          "div",
          "notrack",
          "cvtsi2ss",
          "orb",
          "sbb",
          "addss",
          "cvttss2si",
          "orl",
          "rep",
          "neg",
          "movhps",
          "andb",
          "bt",
          "btc",
          "subss",
          "pcmpeqd",
          "cmpw",
          "movsbq",
          "subq",
          "cmovg",
          "pandn",
          "cmovbe",
          "paddq",
          "testl",
          "setbe",
          "cmovb",
          "adc",
          "orw",
          "movw",
          "andl",
          "cmovl",
          "movd",
          "seta",
          "por",
          "shufps",
          "setb",
          "cmova",
          "divss",
          "punpckldq",
          "orq",
          "setg",
          "cmovns",
          "pshufd",
          "punpckhdq",
          "shufpd",
          "setae",
          "cmovs",
          "jno",
          "andq",
          "addl",
          "movswl",
          "seto",
          "divq",
          "movhlps",
          "setl",
          "ror",
          "psrldq",
          "xorb",
          "notq",
          "idiv",
          "rol",
          "movsd",
          "cvtsi2sd",
          "comisd",
          "fstp",
          "cvttsd2si",
          "mulsd",
          "addsd",
          "subsd",
          "fxch",
          "fstpt",
          "movapd",
          "fcomi",
          "fucomip",
          "jnp",
          "jp",
          "fldt",
          "fucomi",
          "subl",
          "maxsd",
          "divsd",
          "btcq",
          "setge",
          "setle",
          "cmovge"
         ],
         "xaxis": "x",
         "y": [
          9728,
          1831,
          1826,
          1731,
          1532,
          1388,
          1118,
          1106,
          910,
          874,
          736,
          712,
          657,
          651,
          533,
          354,
          314,
          291,
          245,
          225,
          194,
          192,
          186,
          183,
          170,
          165,
          165,
          162,
          161,
          142,
          136,
          128,
          117,
          113,
          111,
          110,
          95,
          95,
          91,
          90,
          90,
          81,
          77,
          71,
          70,
          68,
          62,
          62,
          58,
          53,
          52,
          50,
          50,
          49,
          44,
          42,
          42,
          41,
          41,
          40,
          36,
          35,
          32,
          31,
          31,
          29,
          29,
          26,
          26,
          23,
          22,
          20,
          20,
          20,
          16,
          15,
          14,
          14,
          12,
          10,
          9,
          9,
          8,
          8,
          7,
          7,
          7,
          7,
          7,
          6,
          6,
          6,
          6,
          6,
          5,
          5,
          5,
          5,
          4,
          4,
          3,
          3,
          3,
          3,
          3,
          3,
          2,
          2,
          2,
          2,
          2,
          2,
          2,
          1,
          1,
          1,
          1,
          1,
          1,
          1,
          1,
          1,
          1,
          1,
          1,
          1,
          1,
          1,
          1,
          0,
          0,
          0,
          0,
          0,
          0,
          0,
          0,
          0,
          0,
          0,
          0,
          0,
          0,
          0,
          0,
          0,
          0,
          0,
          0,
          0,
          0,
          0,
          0,
          0,
          0,
          0
         ],
         "yaxis": "y"
        },
        {
         "alignmentgroup": "True",
         "bingroup": "x",
         "histfunc": "sum",
         "hovertemplate": "variable=sed<br>index=%{x}<br>sum of value=%{y}<extra></extra>",
         "legendgroup": "sed",
         "marker": {
          "color": "#EF553B",
          "pattern": {
           "shape": ""
          }
         },
         "name": "sed",
         "offsetgroup": "sed",
         "orientation": "v",
         "showlegend": true,
         "type": "histogram",
         "x": [
          "mov",
          "call",
          "test",
          "je",
          "cmp",
          "jmp",
          "lea",
          "jne",
          "add",
          "xor",
          "nopl",
          "movzbl",
          "push",
          "pop",
          "sub",
          "movq",
          "cmpb",
          "movb",
          "and",
          "bnd",
          "nop",
          "punpcklwd",
          "shl",
          "nopw",
          "jle",
          "movdqu",
          "movdqa",
          "jbe",
          "jg",
          "ja",
          "cmpq",
          "punpckhwd",
          "movl",
          "or",
          "jl",
          "movups",
          "movabs",
          "shr",
          "movslq",
          "js",
          "jae",
          "jo",
          "xchg",
          "movaps",
          "cs",
          "pand",
          "jb",
          "jge",
          "sete",
          "cmovae",
          "imul",
          "comiss",
          "cmpl",
          "pxor",
          "sar",
          "movsbl",
          "data16",
          "jns",
          "testb",
          "cmovle",
          "cmovne",
          "mul",
          "packuswb",
          "movss",
          "setne",
          "punpcklqdq",
          "movzwl",
          "addq",
          "not",
          "cmove",
          "mulss",
          "div",
          "notrack",
          "cvtsi2ss",
          "orb",
          "sbb",
          "addss",
          "cvttss2si",
          "orl",
          "rep",
          "neg",
          "movhps",
          "andb",
          "bt",
          "btc",
          "subss",
          "pcmpeqd",
          "cmpw",
          "movsbq",
          "subq",
          "cmovg",
          "pandn",
          "cmovbe",
          "paddq",
          "testl",
          "setbe",
          "cmovb",
          "adc",
          "orw",
          "movw",
          "andl",
          "cmovl",
          "movd",
          "seta",
          "por",
          "shufps",
          "setb",
          "cmova",
          "divss",
          "punpckldq",
          "orq",
          "setg",
          "cmovns",
          "pshufd",
          "punpckhdq",
          "shufpd",
          "setae",
          "cmovs",
          "jno",
          "andq",
          "addl",
          "movswl",
          "seto",
          "divq",
          "movhlps",
          "setl",
          "ror",
          "psrldq",
          "xorb",
          "notq",
          "idiv",
          "rol",
          "movsd",
          "cvtsi2sd",
          "comisd",
          "fstp",
          "cvttsd2si",
          "mulsd",
          "addsd",
          "subsd",
          "fxch",
          "fstpt",
          "movapd",
          "fcomi",
          "fucomip",
          "jnp",
          "jp",
          "fldt",
          "fucomi",
          "subl",
          "maxsd",
          "divsd",
          "btcq",
          "setge",
          "setle",
          "cmovge"
         ],
         "xaxis": "x",
         "y": [
          5190,
          1268,
          789,
          796,
          856,
          759,
          838,
          702,
          475,
          563,
          508,
          283,
          477,
          449,
          235,
          222,
          153,
          190,
          127,
          211,
          154,
          0,
          98,
          111,
          91,
          11,
          26,
          87,
          59,
          68,
          82,
          0,
          46,
          61,
          19,
          12,
          12,
          65,
          97,
          56,
          75,
          5,
          56,
          63,
          40,
          0,
          21,
          19,
          46,
          3,
          8,
          0,
          48,
          6,
          16,
          28,
          40,
          7,
          73,
          1,
          21,
          4,
          0,
          0,
          43,
          0,
          5,
          15,
          16,
          22,
          0,
          1,
          18,
          0,
          12,
          4,
          0,
          0,
          4,
          4,
          1,
          0,
          8,
          7,
          0,
          0,
          0,
          2,
          1,
          0,
          2,
          0,
          5,
          0,
          0,
          5,
          4,
          1,
          0,
          0,
          3,
          1,
          0,
          2,
          0,
          0,
          2,
          0,
          0,
          0,
          3,
          3,
          2,
          0,
          0,
          0,
          0,
          1,
          0,
          2,
          1,
          1,
          4,
          1,
          0,
          0,
          0,
          0,
          0,
          3,
          1,
          0,
          0,
          0,
          0,
          0,
          0,
          0,
          0,
          0,
          0,
          0,
          0,
          0,
          0,
          0,
          0,
          0,
          0,
          0,
          0,
          0,
          0,
          0,
          0,
          0
         ],
         "yaxis": "y"
        },
        {
         "alignmentgroup": "True",
         "bingroup": "x",
         "histfunc": "sum",
         "hovertemplate": "variable=sort<br>index=%{x}<br>sum of value=%{y}<extra></extra>",
         "legendgroup": "sort",
         "marker": {
          "color": "#00cc96",
          "pattern": {
           "shape": ""
          }
         },
         "name": "sort",
         "offsetgroup": "sort",
         "orientation": "v",
         "showlegend": true,
         "type": "histogram",
         "x": [
          "mov",
          "call",
          "test",
          "je",
          "cmp",
          "jmp",
          "lea",
          "jne",
          "add",
          "xor",
          "nopl",
          "movzbl",
          "push",
          "pop",
          "sub",
          "movq",
          "cmpb",
          "movb",
          "and",
          "bnd",
          "nop",
          "punpcklwd",
          "shl",
          "nopw",
          "jle",
          "movdqu",
          "movdqa",
          "jbe",
          "jg",
          "ja",
          "cmpq",
          "punpckhwd",
          "movl",
          "or",
          "jl",
          "movups",
          "movabs",
          "shr",
          "movslq",
          "js",
          "jae",
          "jo",
          "xchg",
          "movaps",
          "cs",
          "pand",
          "jb",
          "jge",
          "sete",
          "cmovae",
          "imul",
          "comiss",
          "cmpl",
          "pxor",
          "sar",
          "movsbl",
          "data16",
          "jns",
          "testb",
          "cmovle",
          "cmovne",
          "mul",
          "packuswb",
          "movss",
          "setne",
          "punpcklqdq",
          "movzwl",
          "addq",
          "not",
          "cmove",
          "mulss",
          "div",
          "notrack",
          "cvtsi2ss",
          "orb",
          "sbb",
          "addss",
          "cvttss2si",
          "orl",
          "rep",
          "neg",
          "movhps",
          "andb",
          "bt",
          "btc",
          "subss",
          "pcmpeqd",
          "cmpw",
          "movsbq",
          "subq",
          "cmovg",
          "pandn",
          "cmovbe",
          "paddq",
          "testl",
          "setbe",
          "cmovb",
          "adc",
          "orw",
          "movw",
          "andl",
          "cmovl",
          "movd",
          "seta",
          "por",
          "shufps",
          "setb",
          "cmova",
          "divss",
          "punpckldq",
          "orq",
          "setg",
          "cmovns",
          "pshufd",
          "punpckhdq",
          "shufpd",
          "setae",
          "cmovs",
          "jno",
          "andq",
          "addl",
          "movswl",
          "seto",
          "divq",
          "movhlps",
          "setl",
          "ror",
          "psrldq",
          "xorb",
          "notq",
          "idiv",
          "rol",
          "movsd",
          "cvtsi2sd",
          "comisd",
          "fstp",
          "cvttsd2si",
          "mulsd",
          "addsd",
          "subsd",
          "fxch",
          "fstpt",
          "movapd",
          "fcomi",
          "fucomip",
          "jnp",
          "jp",
          "fldt",
          "fucomi",
          "subl",
          "maxsd",
          "divsd",
          "btcq",
          "setge",
          "setle",
          "cmovge"
         ],
         "xaxis": "x",
         "y": [
          4599,
          948,
          562,
          609,
          738,
          597,
          844,
          501,
          601,
          775,
          399,
          298,
          414,
          322,
          360,
          148,
          172,
          126,
          140,
          234,
          153,
          0,
          89,
          75,
          20,
          38,
          19,
          139,
          31,
          109,
          62,
          0,
          34,
          71,
          0,
          61,
          35,
          82,
          50,
          38,
          54,
          11,
          38,
          28,
          45,
          0,
          41,
          1,
          38,
          7,
          13,
          17,
          13,
          32,
          25,
          37,
          31,
          10,
          11,
          1,
          9,
          19,
          0,
          10,
          26,
          0,
          6,
          9,
          24,
          14,
          8,
          7,
          10,
          10,
          6,
          16,
          6,
          6,
          0,
          10,
          14,
          0,
          3,
          3,
          5,
          3,
          0,
          1,
          0,
          6,
          1,
          0,
          16,
          0,
          2,
          3,
          8,
          2,
          0,
          2,
          4,
          1,
          0,
          6,
          0,
          0,
          6,
          12,
          2,
          0,
          2,
          1,
          1,
          0,
          0,
          0,
          8,
          3,
          2,
          0,
          1,
          0,
          2,
          2,
          0,
          0,
          21,
          0,
          0,
          0,
          0,
          44,
          20,
          19,
          14,
          12,
          8,
          8,
          7,
          4,
          4,
          3,
          3,
          2,
          2,
          2,
          1,
          1,
          1,
          1,
          1,
          1,
          1,
          0,
          0,
          0
         ],
         "yaxis": "y"
        },
        {
         "alignmentgroup": "True",
         "bingroup": "x",
         "histfunc": "sum",
         "hovertemplate": "variable=diff<br>index=%{x}<br>sum of value=%{y}<extra></extra>",
         "legendgroup": "diff",
         "marker": {
          "color": "#ab63fa",
          "pattern": {
           "shape": ""
          }
         },
         "name": "diff",
         "offsetgroup": "diff",
         "orientation": "v",
         "showlegend": true,
         "type": "histogram",
         "x": [
          "mov",
          "call",
          "test",
          "je",
          "cmp",
          "jmp",
          "lea",
          "jne",
          "add",
          "xor",
          "nopl",
          "movzbl",
          "push",
          "pop",
          "sub",
          "movq",
          "cmpb",
          "movb",
          "and",
          "bnd",
          "nop",
          "punpcklwd",
          "shl",
          "nopw",
          "jle",
          "movdqu",
          "movdqa",
          "jbe",
          "jg",
          "ja",
          "cmpq",
          "punpckhwd",
          "movl",
          "or",
          "jl",
          "movups",
          "movabs",
          "shr",
          "movslq",
          "js",
          "jae",
          "jo",
          "xchg",
          "movaps",
          "cs",
          "pand",
          "jb",
          "jge",
          "sete",
          "cmovae",
          "imul",
          "comiss",
          "cmpl",
          "pxor",
          "sar",
          "movsbl",
          "data16",
          "jns",
          "testb",
          "cmovle",
          "cmovne",
          "mul",
          "packuswb",
          "movss",
          "setne",
          "punpcklqdq",
          "movzwl",
          "addq",
          "not",
          "cmove",
          "mulss",
          "div",
          "notrack",
          "cvtsi2ss",
          "orb",
          "sbb",
          "addss",
          "cvttss2si",
          "orl",
          "rep",
          "neg",
          "movhps",
          "andb",
          "bt",
          "btc",
          "subss",
          "pcmpeqd",
          "cmpw",
          "movsbq",
          "subq",
          "cmovg",
          "pandn",
          "cmovbe",
          "paddq",
          "testl",
          "setbe",
          "cmovb",
          "adc",
          "orw",
          "movw",
          "andl",
          "cmovl",
          "movd",
          "seta",
          "por",
          "shufps",
          "setb",
          "cmova",
          "divss",
          "punpckldq",
          "orq",
          "setg",
          "cmovns",
          "pshufd",
          "punpckhdq",
          "shufpd",
          "setae",
          "cmovs",
          "jno",
          "andq",
          "addl",
          "movswl",
          "seto",
          "divq",
          "movhlps",
          "setl",
          "ror",
          "psrldq",
          "xorb",
          "notq",
          "idiv",
          "rol",
          "movsd",
          "cvtsi2sd",
          "comisd",
          "fstp",
          "cvttsd2si",
          "mulsd",
          "addsd",
          "subsd",
          "fxch",
          "fstpt",
          "movapd",
          "fcomi",
          "fucomip",
          "jnp",
          "jp",
          "fldt",
          "fucomi",
          "subl",
          "maxsd",
          "divsd",
          "btcq",
          "setge",
          "setle",
          "cmovge"
         ],
         "xaxis": "x",
         "y": [
          5869,
          1141,
          938,
          1079,
          1108,
          972,
          1131,
          706,
          661,
          694,
          487,
          353,
          494,
          441,
          489,
          151,
          274,
          299,
          145,
          220,
          159,
          0,
          49,
          115,
          66,
          4,
          24,
          91,
          65,
          93,
          66,
          0,
          100,
          27,
          36,
          12,
          48,
          64,
          75,
          62,
          118,
          6,
          56,
          42,
          44,
          0,
          33,
          39,
          58,
          6,
          49,
          15,
          78,
          6,
          50,
          25,
          29,
          23,
          35,
          12,
          31,
          5,
          0,
          8,
          44,
          0,
          4,
          21,
          8,
          33,
          4,
          27,
          15,
          6,
          0,
          9,
          4,
          6,
          0,
          7,
          18,
          0,
          1,
          4,
          3,
          3,
          0,
          0,
          0,
          3,
          5,
          0,
          2,
          0,
          1,
          2,
          3,
          1,
          0,
          0,
          3,
          8,
          0,
          8,
          0,
          0,
          1,
          11,
          1,
          0,
          7,
          4,
          3,
          0,
          0,
          0,
          1,
          4,
          1,
          0,
          1,
          0,
          4,
          4,
          0,
          9,
          4,
          0,
          0,
          0,
          2,
          6,
          0,
          0,
          0,
          0,
          0,
          0,
          0,
          0,
          0,
          0,
          0,
          0,
          0,
          0,
          0,
          0,
          0,
          0,
          0,
          0,
          0,
          8,
          6,
          6
         ],
         "yaxis": "y"
        }
       ],
       "layout": {
        "barmode": "group",
        "legend": {
         "orientation": "h",
         "title": {
          "text": "variable"
         },
         "tracegroupgap": 0,
         "x": 0,
         "xanchor": "left",
         "y": 1.02,
         "yanchor": "bottom"
        },
        "margin": {
         "t": 60
        },
        "template": {
         "data": {
          "bar": [
           {
            "error_x": {
             "color": "#2a3f5f"
            },
            "error_y": {
             "color": "#2a3f5f"
            },
            "marker": {
             "line": {
              "color": "#E5ECF6",
              "width": 0.5
             },
             "pattern": {
              "fillmode": "overlay",
              "size": 10,
              "solidity": 0.2
             }
            },
            "type": "bar"
           }
          ],
          "barpolar": [
           {
            "marker": {
             "line": {
              "color": "#E5ECF6",
              "width": 0.5
             },
             "pattern": {
              "fillmode": "overlay",
              "size": 10,
              "solidity": 0.2
             }
            },
            "type": "barpolar"
           }
          ],
          "carpet": [
           {
            "aaxis": {
             "endlinecolor": "#2a3f5f",
             "gridcolor": "white",
             "linecolor": "white",
             "minorgridcolor": "white",
             "startlinecolor": "#2a3f5f"
            },
            "baxis": {
             "endlinecolor": "#2a3f5f",
             "gridcolor": "white",
             "linecolor": "white",
             "minorgridcolor": "white",
             "startlinecolor": "#2a3f5f"
            },
            "type": "carpet"
           }
          ],
          "choropleth": [
           {
            "colorbar": {
             "outlinewidth": 0,
             "ticks": ""
            },
            "type": "choropleth"
           }
          ],
          "contour": [
           {
            "colorbar": {
             "outlinewidth": 0,
             "ticks": ""
            },
            "colorscale": [
             [
              0,
              "#0d0887"
             ],
             [
              0.1111111111111111,
              "#46039f"
             ],
             [
              0.2222222222222222,
              "#7201a8"
             ],
             [
              0.3333333333333333,
              "#9c179e"
             ],
             [
              0.4444444444444444,
              "#bd3786"
             ],
             [
              0.5555555555555556,
              "#d8576b"
             ],
             [
              0.6666666666666666,
              "#ed7953"
             ],
             [
              0.7777777777777778,
              "#fb9f3a"
             ],
             [
              0.8888888888888888,
              "#fdca26"
             ],
             [
              1,
              "#f0f921"
             ]
            ],
            "type": "contour"
           }
          ],
          "contourcarpet": [
           {
            "colorbar": {
             "outlinewidth": 0,
             "ticks": ""
            },
            "type": "contourcarpet"
           }
          ],
          "heatmap": [
           {
            "colorbar": {
             "outlinewidth": 0,
             "ticks": ""
            },
            "colorscale": [
             [
              0,
              "#0d0887"
             ],
             [
              0.1111111111111111,
              "#46039f"
             ],
             [
              0.2222222222222222,
              "#7201a8"
             ],
             [
              0.3333333333333333,
              "#9c179e"
             ],
             [
              0.4444444444444444,
              "#bd3786"
             ],
             [
              0.5555555555555556,
              "#d8576b"
             ],
             [
              0.6666666666666666,
              "#ed7953"
             ],
             [
              0.7777777777777778,
              "#fb9f3a"
             ],
             [
              0.8888888888888888,
              "#fdca26"
             ],
             [
              1,
              "#f0f921"
             ]
            ],
            "type": "heatmap"
           }
          ],
          "heatmapgl": [
           {
            "colorbar": {
             "outlinewidth": 0,
             "ticks": ""
            },
            "colorscale": [
             [
              0,
              "#0d0887"
             ],
             [
              0.1111111111111111,
              "#46039f"
             ],
             [
              0.2222222222222222,
              "#7201a8"
             ],
             [
              0.3333333333333333,
              "#9c179e"
             ],
             [
              0.4444444444444444,
              "#bd3786"
             ],
             [
              0.5555555555555556,
              "#d8576b"
             ],
             [
              0.6666666666666666,
              "#ed7953"
             ],
             [
              0.7777777777777778,
              "#fb9f3a"
             ],
             [
              0.8888888888888888,
              "#fdca26"
             ],
             [
              1,
              "#f0f921"
             ]
            ],
            "type": "heatmapgl"
           }
          ],
          "histogram": [
           {
            "marker": {
             "pattern": {
              "fillmode": "overlay",
              "size": 10,
              "solidity": 0.2
             }
            },
            "type": "histogram"
           }
          ],
          "histogram2d": [
           {
            "colorbar": {
             "outlinewidth": 0,
             "ticks": ""
            },
            "colorscale": [
             [
              0,
              "#0d0887"
             ],
             [
              0.1111111111111111,
              "#46039f"
             ],
             [
              0.2222222222222222,
              "#7201a8"
             ],
             [
              0.3333333333333333,
              "#9c179e"
             ],
             [
              0.4444444444444444,
              "#bd3786"
             ],
             [
              0.5555555555555556,
              "#d8576b"
             ],
             [
              0.6666666666666666,
              "#ed7953"
             ],
             [
              0.7777777777777778,
              "#fb9f3a"
             ],
             [
              0.8888888888888888,
              "#fdca26"
             ],
             [
              1,
              "#f0f921"
             ]
            ],
            "type": "histogram2d"
           }
          ],
          "histogram2dcontour": [
           {
            "colorbar": {
             "outlinewidth": 0,
             "ticks": ""
            },
            "colorscale": [
             [
              0,
              "#0d0887"
             ],
             [
              0.1111111111111111,
              "#46039f"
             ],
             [
              0.2222222222222222,
              "#7201a8"
             ],
             [
              0.3333333333333333,
              "#9c179e"
             ],
             [
              0.4444444444444444,
              "#bd3786"
             ],
             [
              0.5555555555555556,
              "#d8576b"
             ],
             [
              0.6666666666666666,
              "#ed7953"
             ],
             [
              0.7777777777777778,
              "#fb9f3a"
             ],
             [
              0.8888888888888888,
              "#fdca26"
             ],
             [
              1,
              "#f0f921"
             ]
            ],
            "type": "histogram2dcontour"
           }
          ],
          "mesh3d": [
           {
            "colorbar": {
             "outlinewidth": 0,
             "ticks": ""
            },
            "type": "mesh3d"
           }
          ],
          "parcoords": [
           {
            "line": {
             "colorbar": {
              "outlinewidth": 0,
              "ticks": ""
             }
            },
            "type": "parcoords"
           }
          ],
          "pie": [
           {
            "automargin": true,
            "type": "pie"
           }
          ],
          "scatter": [
           {
            "fillpattern": {
             "fillmode": "overlay",
             "size": 10,
             "solidity": 0.2
            },
            "type": "scatter"
           }
          ],
          "scatter3d": [
           {
            "line": {
             "colorbar": {
              "outlinewidth": 0,
              "ticks": ""
             }
            },
            "marker": {
             "colorbar": {
              "outlinewidth": 0,
              "ticks": ""
             }
            },
            "type": "scatter3d"
           }
          ],
          "scattercarpet": [
           {
            "marker": {
             "colorbar": {
              "outlinewidth": 0,
              "ticks": ""
             }
            },
            "type": "scattercarpet"
           }
          ],
          "scattergeo": [
           {
            "marker": {
             "colorbar": {
              "outlinewidth": 0,
              "ticks": ""
             }
            },
            "type": "scattergeo"
           }
          ],
          "scattergl": [
           {
            "marker": {
             "colorbar": {
              "outlinewidth": 0,
              "ticks": ""
             }
            },
            "type": "scattergl"
           }
          ],
          "scattermapbox": [
           {
            "marker": {
             "colorbar": {
              "outlinewidth": 0,
              "ticks": ""
             }
            },
            "type": "scattermapbox"
           }
          ],
          "scatterpolar": [
           {
            "marker": {
             "colorbar": {
              "outlinewidth": 0,
              "ticks": ""
             }
            },
            "type": "scatterpolar"
           }
          ],
          "scatterpolargl": [
           {
            "marker": {
             "colorbar": {
              "outlinewidth": 0,
              "ticks": ""
             }
            },
            "type": "scatterpolargl"
           }
          ],
          "scatterternary": [
           {
            "marker": {
             "colorbar": {
              "outlinewidth": 0,
              "ticks": ""
             }
            },
            "type": "scatterternary"
           }
          ],
          "surface": [
           {
            "colorbar": {
             "outlinewidth": 0,
             "ticks": ""
            },
            "colorscale": [
             [
              0,
              "#0d0887"
             ],
             [
              0.1111111111111111,
              "#46039f"
             ],
             [
              0.2222222222222222,
              "#7201a8"
             ],
             [
              0.3333333333333333,
              "#9c179e"
             ],
             [
              0.4444444444444444,
              "#bd3786"
             ],
             [
              0.5555555555555556,
              "#d8576b"
             ],
             [
              0.6666666666666666,
              "#ed7953"
             ],
             [
              0.7777777777777778,
              "#fb9f3a"
             ],
             [
              0.8888888888888888,
              "#fdca26"
             ],
             [
              1,
              "#f0f921"
             ]
            ],
            "type": "surface"
           }
          ],
          "table": [
           {
            "cells": {
             "fill": {
              "color": "#EBF0F8"
             },
             "line": {
              "color": "white"
             }
            },
            "header": {
             "fill": {
              "color": "#C8D4E3"
             },
             "line": {
              "color": "white"
             }
            },
            "type": "table"
           }
          ]
         },
         "layout": {
          "annotationdefaults": {
           "arrowcolor": "#2a3f5f",
           "arrowhead": 0,
           "arrowwidth": 1
          },
          "autotypenumbers": "strict",
          "coloraxis": {
           "colorbar": {
            "outlinewidth": 0,
            "ticks": ""
           }
          },
          "colorscale": {
           "diverging": [
            [
             0,
             "#8e0152"
            ],
            [
             0.1,
             "#c51b7d"
            ],
            [
             0.2,
             "#de77ae"
            ],
            [
             0.3,
             "#f1b6da"
            ],
            [
             0.4,
             "#fde0ef"
            ],
            [
             0.5,
             "#f7f7f7"
            ],
            [
             0.6,
             "#e6f5d0"
            ],
            [
             0.7,
             "#b8e186"
            ],
            [
             0.8,
             "#7fbc41"
            ],
            [
             0.9,
             "#4d9221"
            ],
            [
             1,
             "#276419"
            ]
           ],
           "sequential": [
            [
             0,
             "#0d0887"
            ],
            [
             0.1111111111111111,
             "#46039f"
            ],
            [
             0.2222222222222222,
             "#7201a8"
            ],
            [
             0.3333333333333333,
             "#9c179e"
            ],
            [
             0.4444444444444444,
             "#bd3786"
            ],
            [
             0.5555555555555556,
             "#d8576b"
            ],
            [
             0.6666666666666666,
             "#ed7953"
            ],
            [
             0.7777777777777778,
             "#fb9f3a"
            ],
            [
             0.8888888888888888,
             "#fdca26"
            ],
            [
             1,
             "#f0f921"
            ]
           ],
           "sequentialminus": [
            [
             0,
             "#0d0887"
            ],
            [
             0.1111111111111111,
             "#46039f"
            ],
            [
             0.2222222222222222,
             "#7201a8"
            ],
            [
             0.3333333333333333,
             "#9c179e"
            ],
            [
             0.4444444444444444,
             "#bd3786"
            ],
            [
             0.5555555555555556,
             "#d8576b"
            ],
            [
             0.6666666666666666,
             "#ed7953"
            ],
            [
             0.7777777777777778,
             "#fb9f3a"
            ],
            [
             0.8888888888888888,
             "#fdca26"
            ],
            [
             1,
             "#f0f921"
            ]
           ]
          },
          "colorway": [
           "#636efa",
           "#EF553B",
           "#00cc96",
           "#ab63fa",
           "#FFA15A",
           "#19d3f3",
           "#FF6692",
           "#B6E880",
           "#FF97FF",
           "#FECB52"
          ],
          "font": {
           "color": "#2a3f5f"
          },
          "geo": {
           "bgcolor": "white",
           "lakecolor": "white",
           "landcolor": "#E5ECF6",
           "showlakes": true,
           "showland": true,
           "subunitcolor": "white"
          },
          "hoverlabel": {
           "align": "left"
          },
          "hovermode": "closest",
          "mapbox": {
           "style": "light"
          },
          "paper_bgcolor": "white",
          "plot_bgcolor": "#E5ECF6",
          "polar": {
           "angularaxis": {
            "gridcolor": "white",
            "linecolor": "white",
            "ticks": ""
           },
           "bgcolor": "#E5ECF6",
           "radialaxis": {
            "gridcolor": "white",
            "linecolor": "white",
            "ticks": ""
           }
          },
          "scene": {
           "xaxis": {
            "backgroundcolor": "#E5ECF6",
            "gridcolor": "white",
            "gridwidth": 2,
            "linecolor": "white",
            "showbackground": true,
            "ticks": "",
            "zerolinecolor": "white"
           },
           "yaxis": {
            "backgroundcolor": "#E5ECF6",
            "gridcolor": "white",
            "gridwidth": 2,
            "linecolor": "white",
            "showbackground": true,
            "ticks": "",
            "zerolinecolor": "white"
           },
           "zaxis": {
            "backgroundcolor": "#E5ECF6",
            "gridcolor": "white",
            "gridwidth": 2,
            "linecolor": "white",
            "showbackground": true,
            "ticks": "",
            "zerolinecolor": "white"
           }
          },
          "shapedefaults": {
           "line": {
            "color": "#2a3f5f"
           }
          },
          "ternary": {
           "aaxis": {
            "gridcolor": "white",
            "linecolor": "white",
            "ticks": ""
           },
           "baxis": {
            "gridcolor": "white",
            "linecolor": "white",
            "ticks": ""
           },
           "bgcolor": "#E5ECF6",
           "caxis": {
            "gridcolor": "white",
            "linecolor": "white",
            "ticks": ""
           }
          },
          "title": {
           "x": 0.05
          },
          "xaxis": {
           "automargin": true,
           "gridcolor": "white",
           "linecolor": "white",
           "ticks": "",
           "title": {
            "standoff": 15
           },
           "zerolinecolor": "white",
           "zerolinewidth": 2
          },
          "yaxis": {
           "automargin": true,
           "gridcolor": "white",
           "linecolor": "white",
           "ticks": "",
           "title": {
            "standoff": 15
           },
           "zerolinecolor": "white",
           "zerolinewidth": 2
          }
         }
        },
        "width": 3000,
        "xaxis": {
         "anchor": "y",
         "domain": [
          0,
          1
         ],
         "title": {
          "text": "index"
         }
        },
        "yaxis": {
         "anchor": "x",
         "domain": [
          0,
          1
         ],
         "title": {
          "text": "sum of value"
         }
        }
       }
      },
      "text/html": [
       "<div>                            <div id=\"cd11396f-4d36-4dac-a659-3dd1a638d159\" class=\"plotly-graph-div\" style=\"height:525px; width:3000px;\"></div>            <script type=\"text/javascript\">                require([\"plotly\"], function(Plotly) {                    window.PLOTLYENV=window.PLOTLYENV || {};                                    if (document.getElementById(\"cd11396f-4d36-4dac-a659-3dd1a638d159\")) {                    Plotly.newPlot(                        \"cd11396f-4d36-4dac-a659-3dd1a638d159\",                        [{\"alignmentgroup\":\"True\",\"bingroup\":\"x\",\"histfunc\":\"sum\",\"hovertemplate\":\"variable=grep<br>index=%{x}<br>sum of value=%{y}<extra></extra>\",\"legendgroup\":\"grep\",\"marker\":{\"color\":\"#636efa\",\"pattern\":{\"shape\":\"\"}},\"name\":\"grep\",\"offsetgroup\":\"grep\",\"orientation\":\"v\",\"showlegend\":true,\"x\":[\"mov\",\"call\",\"test\",\"je\",\"cmp\",\"jmp\",\"lea\",\"jne\",\"add\",\"xor\",\"nopl\",\"movzbl\",\"push\",\"pop\",\"sub\",\"movq\",\"cmpb\",\"movb\",\"and\",\"bnd\",\"nop\",\"punpcklwd\",\"shl\",\"nopw\",\"jle\",\"movdqu\",\"movdqa\",\"jbe\",\"jg\",\"ja\",\"cmpq\",\"punpckhwd\",\"movl\",\"or\",\"jl\",\"movups\",\"movabs\",\"shr\",\"movslq\",\"js\",\"jae\",\"jo\",\"xchg\",\"movaps\",\"cs\",\"pand\",\"jb\",\"jge\",\"sete\",\"cmovae\",\"imul\",\"comiss\",\"cmpl\",\"pxor\",\"sar\",\"movsbl\",\"data16\",\"jns\",\"testb\",\"cmovle\",\"cmovne\",\"mul\",\"packuswb\",\"movss\",\"setne\",\"punpcklqdq\",\"movzwl\",\"addq\",\"not\",\"cmove\",\"mulss\",\"div\",\"notrack\",\"cvtsi2ss\",\"orb\",\"sbb\",\"addss\",\"cvttss2si\",\"orl\",\"rep\",\"neg\",\"movhps\",\"andb\",\"bt\",\"btc\",\"subss\",\"pcmpeqd\",\"cmpw\",\"movsbq\",\"subq\",\"cmovg\",\"pandn\",\"cmovbe\",\"paddq\",\"testl\",\"setbe\",\"cmovb\",\"adc\",\"orw\",\"movw\",\"andl\",\"cmovl\",\"movd\",\"seta\",\"por\",\"shufps\",\"setb\",\"cmova\",\"divss\",\"punpckldq\",\"orq\",\"setg\",\"cmovns\",\"pshufd\",\"punpckhdq\",\"shufpd\",\"setae\",\"cmovs\",\"jno\",\"andq\",\"addl\",\"movswl\",\"seto\",\"divq\",\"movhlps\",\"setl\",\"ror\",\"psrldq\",\"xorb\",\"notq\",\"idiv\",\"rol\",\"movsd\",\"cvtsi2sd\",\"comisd\",\"fstp\",\"cvttsd2si\",\"mulsd\",\"addsd\",\"subsd\",\"fxch\",\"fstpt\",\"movapd\",\"fcomi\",\"fucomip\",\"jnp\",\"jp\",\"fldt\",\"fucomi\",\"subl\",\"maxsd\",\"divsd\",\"btcq\",\"setge\",\"setle\",\"cmovge\"],\"xaxis\":\"x\",\"y\":[9728.0,1831.0,1826.0,1731.0,1532.0,1388.0,1118.0,1106.0,910.0,874.0,736.0,712.0,657.0,651.0,533.0,354.0,314.0,291.0,245.0,225.0,194.0,192.0,186.0,183.0,170.0,165.0,165.0,162.0,161.0,142.0,136.0,128.0,117.0,113.0,111.0,110.0,95.0,95.0,91.0,90.0,90.0,81.0,77.0,71.0,70.0,68.0,62.0,62.0,58.0,53.0,52.0,50.0,50.0,49.0,44.0,42.0,42.0,41.0,41.0,40.0,36.0,35.0,32.0,31.0,31.0,29.0,29.0,26.0,26.0,23.0,22.0,20.0,20.0,20.0,16.0,15.0,14.0,14.0,12.0,10.0,9.0,9.0,8.0,8.0,7.0,7.0,7.0,7.0,7.0,6.0,6.0,6.0,6.0,6.0,5.0,5.0,5.0,5.0,4.0,4.0,3.0,3.0,3.0,3.0,3.0,3.0,2.0,2.0,2.0,2.0,2.0,2.0,2.0,1.0,1.0,1.0,1.0,1.0,1.0,1.0,1.0,1.0,1.0,1.0,1.0,1.0,1.0,1.0,1.0,0.0,0.0,0.0,0.0,0.0,0.0,0.0,0.0,0.0,0.0,0.0,0.0,0.0,0.0,0.0,0.0,0.0,0.0,0.0,0.0,0.0,0.0,0.0,0.0,0.0,0.0,0.0],\"yaxis\":\"y\",\"type\":\"histogram\"},{\"alignmentgroup\":\"True\",\"bingroup\":\"x\",\"histfunc\":\"sum\",\"hovertemplate\":\"variable=sed<br>index=%{x}<br>sum of value=%{y}<extra></extra>\",\"legendgroup\":\"sed\",\"marker\":{\"color\":\"#EF553B\",\"pattern\":{\"shape\":\"\"}},\"name\":\"sed\",\"offsetgroup\":\"sed\",\"orientation\":\"v\",\"showlegend\":true,\"x\":[\"mov\",\"call\",\"test\",\"je\",\"cmp\",\"jmp\",\"lea\",\"jne\",\"add\",\"xor\",\"nopl\",\"movzbl\",\"push\",\"pop\",\"sub\",\"movq\",\"cmpb\",\"movb\",\"and\",\"bnd\",\"nop\",\"punpcklwd\",\"shl\",\"nopw\",\"jle\",\"movdqu\",\"movdqa\",\"jbe\",\"jg\",\"ja\",\"cmpq\",\"punpckhwd\",\"movl\",\"or\",\"jl\",\"movups\",\"movabs\",\"shr\",\"movslq\",\"js\",\"jae\",\"jo\",\"xchg\",\"movaps\",\"cs\",\"pand\",\"jb\",\"jge\",\"sete\",\"cmovae\",\"imul\",\"comiss\",\"cmpl\",\"pxor\",\"sar\",\"movsbl\",\"data16\",\"jns\",\"testb\",\"cmovle\",\"cmovne\",\"mul\",\"packuswb\",\"movss\",\"setne\",\"punpcklqdq\",\"movzwl\",\"addq\",\"not\",\"cmove\",\"mulss\",\"div\",\"notrack\",\"cvtsi2ss\",\"orb\",\"sbb\",\"addss\",\"cvttss2si\",\"orl\",\"rep\",\"neg\",\"movhps\",\"andb\",\"bt\",\"btc\",\"subss\",\"pcmpeqd\",\"cmpw\",\"movsbq\",\"subq\",\"cmovg\",\"pandn\",\"cmovbe\",\"paddq\",\"testl\",\"setbe\",\"cmovb\",\"adc\",\"orw\",\"movw\",\"andl\",\"cmovl\",\"movd\",\"seta\",\"por\",\"shufps\",\"setb\",\"cmova\",\"divss\",\"punpckldq\",\"orq\",\"setg\",\"cmovns\",\"pshufd\",\"punpckhdq\",\"shufpd\",\"setae\",\"cmovs\",\"jno\",\"andq\",\"addl\",\"movswl\",\"seto\",\"divq\",\"movhlps\",\"setl\",\"ror\",\"psrldq\",\"xorb\",\"notq\",\"idiv\",\"rol\",\"movsd\",\"cvtsi2sd\",\"comisd\",\"fstp\",\"cvttsd2si\",\"mulsd\",\"addsd\",\"subsd\",\"fxch\",\"fstpt\",\"movapd\",\"fcomi\",\"fucomip\",\"jnp\",\"jp\",\"fldt\",\"fucomi\",\"subl\",\"maxsd\",\"divsd\",\"btcq\",\"setge\",\"setle\",\"cmovge\"],\"xaxis\":\"x\",\"y\":[5190.0,1268.0,789.0,796.0,856.0,759.0,838.0,702.0,475.0,563.0,508.0,283.0,477.0,449.0,235.0,222.0,153.0,190.0,127.0,211.0,154.0,0.0,98.0,111.0,91.0,11.0,26.0,87.0,59.0,68.0,82.0,0.0,46.0,61.0,19.0,12.0,12.0,65.0,97.0,56.0,75.0,5.0,56.0,63.0,40.0,0.0,21.0,19.0,46.0,3.0,8.0,0.0,48.0,6.0,16.0,28.0,40.0,7.0,73.0,1.0,21.0,4.0,0.0,0.0,43.0,0.0,5.0,15.0,16.0,22.0,0.0,1.0,18.0,0.0,12.0,4.0,0.0,0.0,4.0,4.0,1.0,0.0,8.0,7.0,0.0,0.0,0.0,2.0,1.0,0.0,2.0,0.0,5.0,0.0,0.0,5.0,4.0,1.0,0.0,0.0,3.0,1.0,0.0,2.0,0.0,0.0,2.0,0.0,0.0,0.0,3.0,3.0,2.0,0.0,0.0,0.0,0.0,1.0,0.0,2.0,1.0,1.0,4.0,1.0,0.0,0.0,0.0,0.0,0.0,3.0,1.0,0.0,0.0,0.0,0.0,0.0,0.0,0.0,0.0,0.0,0.0,0.0,0.0,0.0,0.0,0.0,0.0,0.0,0.0,0.0,0.0,0.0,0.0,0.0,0.0,0.0],\"yaxis\":\"y\",\"type\":\"histogram\"},{\"alignmentgroup\":\"True\",\"bingroup\":\"x\",\"histfunc\":\"sum\",\"hovertemplate\":\"variable=sort<br>index=%{x}<br>sum of value=%{y}<extra></extra>\",\"legendgroup\":\"sort\",\"marker\":{\"color\":\"#00cc96\",\"pattern\":{\"shape\":\"\"}},\"name\":\"sort\",\"offsetgroup\":\"sort\",\"orientation\":\"v\",\"showlegend\":true,\"x\":[\"mov\",\"call\",\"test\",\"je\",\"cmp\",\"jmp\",\"lea\",\"jne\",\"add\",\"xor\",\"nopl\",\"movzbl\",\"push\",\"pop\",\"sub\",\"movq\",\"cmpb\",\"movb\",\"and\",\"bnd\",\"nop\",\"punpcklwd\",\"shl\",\"nopw\",\"jle\",\"movdqu\",\"movdqa\",\"jbe\",\"jg\",\"ja\",\"cmpq\",\"punpckhwd\",\"movl\",\"or\",\"jl\",\"movups\",\"movabs\",\"shr\",\"movslq\",\"js\",\"jae\",\"jo\",\"xchg\",\"movaps\",\"cs\",\"pand\",\"jb\",\"jge\",\"sete\",\"cmovae\",\"imul\",\"comiss\",\"cmpl\",\"pxor\",\"sar\",\"movsbl\",\"data16\",\"jns\",\"testb\",\"cmovle\",\"cmovne\",\"mul\",\"packuswb\",\"movss\",\"setne\",\"punpcklqdq\",\"movzwl\",\"addq\",\"not\",\"cmove\",\"mulss\",\"div\",\"notrack\",\"cvtsi2ss\",\"orb\",\"sbb\",\"addss\",\"cvttss2si\",\"orl\",\"rep\",\"neg\",\"movhps\",\"andb\",\"bt\",\"btc\",\"subss\",\"pcmpeqd\",\"cmpw\",\"movsbq\",\"subq\",\"cmovg\",\"pandn\",\"cmovbe\",\"paddq\",\"testl\",\"setbe\",\"cmovb\",\"adc\",\"orw\",\"movw\",\"andl\",\"cmovl\",\"movd\",\"seta\",\"por\",\"shufps\",\"setb\",\"cmova\",\"divss\",\"punpckldq\",\"orq\",\"setg\",\"cmovns\",\"pshufd\",\"punpckhdq\",\"shufpd\",\"setae\",\"cmovs\",\"jno\",\"andq\",\"addl\",\"movswl\",\"seto\",\"divq\",\"movhlps\",\"setl\",\"ror\",\"psrldq\",\"xorb\",\"notq\",\"idiv\",\"rol\",\"movsd\",\"cvtsi2sd\",\"comisd\",\"fstp\",\"cvttsd2si\",\"mulsd\",\"addsd\",\"subsd\",\"fxch\",\"fstpt\",\"movapd\",\"fcomi\",\"fucomip\",\"jnp\",\"jp\",\"fldt\",\"fucomi\",\"subl\",\"maxsd\",\"divsd\",\"btcq\",\"setge\",\"setle\",\"cmovge\"],\"xaxis\":\"x\",\"y\":[4599.0,948.0,562.0,609.0,738.0,597.0,844.0,501.0,601.0,775.0,399.0,298.0,414.0,322.0,360.0,148.0,172.0,126.0,140.0,234.0,153.0,0.0,89.0,75.0,20.0,38.0,19.0,139.0,31.0,109.0,62.0,0.0,34.0,71.0,0.0,61.0,35.0,82.0,50.0,38.0,54.0,11.0,38.0,28.0,45.0,0.0,41.0,1.0,38.0,7.0,13.0,17.0,13.0,32.0,25.0,37.0,31.0,10.0,11.0,1.0,9.0,19.0,0.0,10.0,26.0,0.0,6.0,9.0,24.0,14.0,8.0,7.0,10.0,10.0,6.0,16.0,6.0,6.0,0.0,10.0,14.0,0.0,3.0,3.0,5.0,3.0,0.0,1.0,0.0,6.0,1.0,0.0,16.0,0.0,2.0,3.0,8.0,2.0,0.0,2.0,4.0,1.0,0.0,6.0,0.0,0.0,6.0,12.0,2.0,0.0,2.0,1.0,1.0,0.0,0.0,0.0,8.0,3.0,2.0,0.0,1.0,0.0,2.0,2.0,0.0,0.0,21.0,0.0,0.0,0.0,0.0,44.0,20.0,19.0,14.0,12.0,8.0,8.0,7.0,4.0,4.0,3.0,3.0,2.0,2.0,2.0,1.0,1.0,1.0,1.0,1.0,1.0,1.0,0.0,0.0,0.0],\"yaxis\":\"y\",\"type\":\"histogram\"},{\"alignmentgroup\":\"True\",\"bingroup\":\"x\",\"histfunc\":\"sum\",\"hovertemplate\":\"variable=diff<br>index=%{x}<br>sum of value=%{y}<extra></extra>\",\"legendgroup\":\"diff\",\"marker\":{\"color\":\"#ab63fa\",\"pattern\":{\"shape\":\"\"}},\"name\":\"diff\",\"offsetgroup\":\"diff\",\"orientation\":\"v\",\"showlegend\":true,\"x\":[\"mov\",\"call\",\"test\",\"je\",\"cmp\",\"jmp\",\"lea\",\"jne\",\"add\",\"xor\",\"nopl\",\"movzbl\",\"push\",\"pop\",\"sub\",\"movq\",\"cmpb\",\"movb\",\"and\",\"bnd\",\"nop\",\"punpcklwd\",\"shl\",\"nopw\",\"jle\",\"movdqu\",\"movdqa\",\"jbe\",\"jg\",\"ja\",\"cmpq\",\"punpckhwd\",\"movl\",\"or\",\"jl\",\"movups\",\"movabs\",\"shr\",\"movslq\",\"js\",\"jae\",\"jo\",\"xchg\",\"movaps\",\"cs\",\"pand\",\"jb\",\"jge\",\"sete\",\"cmovae\",\"imul\",\"comiss\",\"cmpl\",\"pxor\",\"sar\",\"movsbl\",\"data16\",\"jns\",\"testb\",\"cmovle\",\"cmovne\",\"mul\",\"packuswb\",\"movss\",\"setne\",\"punpcklqdq\",\"movzwl\",\"addq\",\"not\",\"cmove\",\"mulss\",\"div\",\"notrack\",\"cvtsi2ss\",\"orb\",\"sbb\",\"addss\",\"cvttss2si\",\"orl\",\"rep\",\"neg\",\"movhps\",\"andb\",\"bt\",\"btc\",\"subss\",\"pcmpeqd\",\"cmpw\",\"movsbq\",\"subq\",\"cmovg\",\"pandn\",\"cmovbe\",\"paddq\",\"testl\",\"setbe\",\"cmovb\",\"adc\",\"orw\",\"movw\",\"andl\",\"cmovl\",\"movd\",\"seta\",\"por\",\"shufps\",\"setb\",\"cmova\",\"divss\",\"punpckldq\",\"orq\",\"setg\",\"cmovns\",\"pshufd\",\"punpckhdq\",\"shufpd\",\"setae\",\"cmovs\",\"jno\",\"andq\",\"addl\",\"movswl\",\"seto\",\"divq\",\"movhlps\",\"setl\",\"ror\",\"psrldq\",\"xorb\",\"notq\",\"idiv\",\"rol\",\"movsd\",\"cvtsi2sd\",\"comisd\",\"fstp\",\"cvttsd2si\",\"mulsd\",\"addsd\",\"subsd\",\"fxch\",\"fstpt\",\"movapd\",\"fcomi\",\"fucomip\",\"jnp\",\"jp\",\"fldt\",\"fucomi\",\"subl\",\"maxsd\",\"divsd\",\"btcq\",\"setge\",\"setle\",\"cmovge\"],\"xaxis\":\"x\",\"y\":[5869.0,1141.0,938.0,1079.0,1108.0,972.0,1131.0,706.0,661.0,694.0,487.0,353.0,494.0,441.0,489.0,151.0,274.0,299.0,145.0,220.0,159.0,0.0,49.0,115.0,66.0,4.0,24.0,91.0,65.0,93.0,66.0,0.0,100.0,27.0,36.0,12.0,48.0,64.0,75.0,62.0,118.0,6.0,56.0,42.0,44.0,0.0,33.0,39.0,58.0,6.0,49.0,15.0,78.0,6.0,50.0,25.0,29.0,23.0,35.0,12.0,31.0,5.0,0.0,8.0,44.0,0.0,4.0,21.0,8.0,33.0,4.0,27.0,15.0,6.0,0.0,9.0,4.0,6.0,0.0,7.0,18.0,0.0,1.0,4.0,3.0,3.0,0.0,0.0,0.0,3.0,5.0,0.0,2.0,0.0,1.0,2.0,3.0,1.0,0.0,0.0,3.0,8.0,0.0,8.0,0.0,0.0,1.0,11.0,1.0,0.0,7.0,4.0,3.0,0.0,0.0,0.0,1.0,4.0,1.0,0.0,1.0,0.0,4.0,4.0,0.0,9.0,4.0,0.0,0.0,0.0,2.0,6.0,0.0,0.0,0.0,0.0,0.0,0.0,0.0,0.0,0.0,0.0,0.0,0.0,0.0,0.0,0.0,0.0,0.0,0.0,0.0,0.0,0.0,8.0,6.0,6.0],\"yaxis\":\"y\",\"type\":\"histogram\"}],                        {\"template\":{\"data\":{\"histogram2dcontour\":[{\"type\":\"histogram2dcontour\",\"colorbar\":{\"outlinewidth\":0,\"ticks\":\"\"},\"colorscale\":[[0.0,\"#0d0887\"],[0.1111111111111111,\"#46039f\"],[0.2222222222222222,\"#7201a8\"],[0.3333333333333333,\"#9c179e\"],[0.4444444444444444,\"#bd3786\"],[0.5555555555555556,\"#d8576b\"],[0.6666666666666666,\"#ed7953\"],[0.7777777777777778,\"#fb9f3a\"],[0.8888888888888888,\"#fdca26\"],[1.0,\"#f0f921\"]]}],\"choropleth\":[{\"type\":\"choropleth\",\"colorbar\":{\"outlinewidth\":0,\"ticks\":\"\"}}],\"histogram2d\":[{\"type\":\"histogram2d\",\"colorbar\":{\"outlinewidth\":0,\"ticks\":\"\"},\"colorscale\":[[0.0,\"#0d0887\"],[0.1111111111111111,\"#46039f\"],[0.2222222222222222,\"#7201a8\"],[0.3333333333333333,\"#9c179e\"],[0.4444444444444444,\"#bd3786\"],[0.5555555555555556,\"#d8576b\"],[0.6666666666666666,\"#ed7953\"],[0.7777777777777778,\"#fb9f3a\"],[0.8888888888888888,\"#fdca26\"],[1.0,\"#f0f921\"]]}],\"heatmap\":[{\"type\":\"heatmap\",\"colorbar\":{\"outlinewidth\":0,\"ticks\":\"\"},\"colorscale\":[[0.0,\"#0d0887\"],[0.1111111111111111,\"#46039f\"],[0.2222222222222222,\"#7201a8\"],[0.3333333333333333,\"#9c179e\"],[0.4444444444444444,\"#bd3786\"],[0.5555555555555556,\"#d8576b\"],[0.6666666666666666,\"#ed7953\"],[0.7777777777777778,\"#fb9f3a\"],[0.8888888888888888,\"#fdca26\"],[1.0,\"#f0f921\"]]}],\"heatmapgl\":[{\"type\":\"heatmapgl\",\"colorbar\":{\"outlinewidth\":0,\"ticks\":\"\"},\"colorscale\":[[0.0,\"#0d0887\"],[0.1111111111111111,\"#46039f\"],[0.2222222222222222,\"#7201a8\"],[0.3333333333333333,\"#9c179e\"],[0.4444444444444444,\"#bd3786\"],[0.5555555555555556,\"#d8576b\"],[0.6666666666666666,\"#ed7953\"],[0.7777777777777778,\"#fb9f3a\"],[0.8888888888888888,\"#fdca26\"],[1.0,\"#f0f921\"]]}],\"contourcarpet\":[{\"type\":\"contourcarpet\",\"colorbar\":{\"outlinewidth\":0,\"ticks\":\"\"}}],\"contour\":[{\"type\":\"contour\",\"colorbar\":{\"outlinewidth\":0,\"ticks\":\"\"},\"colorscale\":[[0.0,\"#0d0887\"],[0.1111111111111111,\"#46039f\"],[0.2222222222222222,\"#7201a8\"],[0.3333333333333333,\"#9c179e\"],[0.4444444444444444,\"#bd3786\"],[0.5555555555555556,\"#d8576b\"],[0.6666666666666666,\"#ed7953\"],[0.7777777777777778,\"#fb9f3a\"],[0.8888888888888888,\"#fdca26\"],[1.0,\"#f0f921\"]]}],\"surface\":[{\"type\":\"surface\",\"colorbar\":{\"outlinewidth\":0,\"ticks\":\"\"},\"colorscale\":[[0.0,\"#0d0887\"],[0.1111111111111111,\"#46039f\"],[0.2222222222222222,\"#7201a8\"],[0.3333333333333333,\"#9c179e\"],[0.4444444444444444,\"#bd3786\"],[0.5555555555555556,\"#d8576b\"],[0.6666666666666666,\"#ed7953\"],[0.7777777777777778,\"#fb9f3a\"],[0.8888888888888888,\"#fdca26\"],[1.0,\"#f0f921\"]]}],\"mesh3d\":[{\"type\":\"mesh3d\",\"colorbar\":{\"outlinewidth\":0,\"ticks\":\"\"}}],\"scatter\":[{\"fillpattern\":{\"fillmode\":\"overlay\",\"size\":10,\"solidity\":0.2},\"type\":\"scatter\"}],\"parcoords\":[{\"type\":\"parcoords\",\"line\":{\"colorbar\":{\"outlinewidth\":0,\"ticks\":\"\"}}}],\"scatterpolargl\":[{\"type\":\"scatterpolargl\",\"marker\":{\"colorbar\":{\"outlinewidth\":0,\"ticks\":\"\"}}}],\"bar\":[{\"error_x\":{\"color\":\"#2a3f5f\"},\"error_y\":{\"color\":\"#2a3f5f\"},\"marker\":{\"line\":{\"color\":\"#E5ECF6\",\"width\":0.5},\"pattern\":{\"fillmode\":\"overlay\",\"size\":10,\"solidity\":0.2}},\"type\":\"bar\"}],\"scattergeo\":[{\"type\":\"scattergeo\",\"marker\":{\"colorbar\":{\"outlinewidth\":0,\"ticks\":\"\"}}}],\"scatterpolar\":[{\"type\":\"scatterpolar\",\"marker\":{\"colorbar\":{\"outlinewidth\":0,\"ticks\":\"\"}}}],\"histogram\":[{\"marker\":{\"pattern\":{\"fillmode\":\"overlay\",\"size\":10,\"solidity\":0.2}},\"type\":\"histogram\"}],\"scattergl\":[{\"type\":\"scattergl\",\"marker\":{\"colorbar\":{\"outlinewidth\":0,\"ticks\":\"\"}}}],\"scatter3d\":[{\"type\":\"scatter3d\",\"line\":{\"colorbar\":{\"outlinewidth\":0,\"ticks\":\"\"}},\"marker\":{\"colorbar\":{\"outlinewidth\":0,\"ticks\":\"\"}}}],\"scattermapbox\":[{\"type\":\"scattermapbox\",\"marker\":{\"colorbar\":{\"outlinewidth\":0,\"ticks\":\"\"}}}],\"scatterternary\":[{\"type\":\"scatterternary\",\"marker\":{\"colorbar\":{\"outlinewidth\":0,\"ticks\":\"\"}}}],\"scattercarpet\":[{\"type\":\"scattercarpet\",\"marker\":{\"colorbar\":{\"outlinewidth\":0,\"ticks\":\"\"}}}],\"carpet\":[{\"aaxis\":{\"endlinecolor\":\"#2a3f5f\",\"gridcolor\":\"white\",\"linecolor\":\"white\",\"minorgridcolor\":\"white\",\"startlinecolor\":\"#2a3f5f\"},\"baxis\":{\"endlinecolor\":\"#2a3f5f\",\"gridcolor\":\"white\",\"linecolor\":\"white\",\"minorgridcolor\":\"white\",\"startlinecolor\":\"#2a3f5f\"},\"type\":\"carpet\"}],\"table\":[{\"cells\":{\"fill\":{\"color\":\"#EBF0F8\"},\"line\":{\"color\":\"white\"}},\"header\":{\"fill\":{\"color\":\"#C8D4E3\"},\"line\":{\"color\":\"white\"}},\"type\":\"table\"}],\"barpolar\":[{\"marker\":{\"line\":{\"color\":\"#E5ECF6\",\"width\":0.5},\"pattern\":{\"fillmode\":\"overlay\",\"size\":10,\"solidity\":0.2}},\"type\":\"barpolar\"}],\"pie\":[{\"automargin\":true,\"type\":\"pie\"}]},\"layout\":{\"autotypenumbers\":\"strict\",\"colorway\":[\"#636efa\",\"#EF553B\",\"#00cc96\",\"#ab63fa\",\"#FFA15A\",\"#19d3f3\",\"#FF6692\",\"#B6E880\",\"#FF97FF\",\"#FECB52\"],\"font\":{\"color\":\"#2a3f5f\"},\"hovermode\":\"closest\",\"hoverlabel\":{\"align\":\"left\"},\"paper_bgcolor\":\"white\",\"plot_bgcolor\":\"#E5ECF6\",\"polar\":{\"bgcolor\":\"#E5ECF6\",\"angularaxis\":{\"gridcolor\":\"white\",\"linecolor\":\"white\",\"ticks\":\"\"},\"radialaxis\":{\"gridcolor\":\"white\",\"linecolor\":\"white\",\"ticks\":\"\"}},\"ternary\":{\"bgcolor\":\"#E5ECF6\",\"aaxis\":{\"gridcolor\":\"white\",\"linecolor\":\"white\",\"ticks\":\"\"},\"baxis\":{\"gridcolor\":\"white\",\"linecolor\":\"white\",\"ticks\":\"\"},\"caxis\":{\"gridcolor\":\"white\",\"linecolor\":\"white\",\"ticks\":\"\"}},\"coloraxis\":{\"colorbar\":{\"outlinewidth\":0,\"ticks\":\"\"}},\"colorscale\":{\"sequential\":[[0.0,\"#0d0887\"],[0.1111111111111111,\"#46039f\"],[0.2222222222222222,\"#7201a8\"],[0.3333333333333333,\"#9c179e\"],[0.4444444444444444,\"#bd3786\"],[0.5555555555555556,\"#d8576b\"],[0.6666666666666666,\"#ed7953\"],[0.7777777777777778,\"#fb9f3a\"],[0.8888888888888888,\"#fdca26\"],[1.0,\"#f0f921\"]],\"sequentialminus\":[[0.0,\"#0d0887\"],[0.1111111111111111,\"#46039f\"],[0.2222222222222222,\"#7201a8\"],[0.3333333333333333,\"#9c179e\"],[0.4444444444444444,\"#bd3786\"],[0.5555555555555556,\"#d8576b\"],[0.6666666666666666,\"#ed7953\"],[0.7777777777777778,\"#fb9f3a\"],[0.8888888888888888,\"#fdca26\"],[1.0,\"#f0f921\"]],\"diverging\":[[0,\"#8e0152\"],[0.1,\"#c51b7d\"],[0.2,\"#de77ae\"],[0.3,\"#f1b6da\"],[0.4,\"#fde0ef\"],[0.5,\"#f7f7f7\"],[0.6,\"#e6f5d0\"],[0.7,\"#b8e186\"],[0.8,\"#7fbc41\"],[0.9,\"#4d9221\"],[1,\"#276419\"]]},\"xaxis\":{\"gridcolor\":\"white\",\"linecolor\":\"white\",\"ticks\":\"\",\"title\":{\"standoff\":15},\"zerolinecolor\":\"white\",\"automargin\":true,\"zerolinewidth\":2},\"yaxis\":{\"gridcolor\":\"white\",\"linecolor\":\"white\",\"ticks\":\"\",\"title\":{\"standoff\":15},\"zerolinecolor\":\"white\",\"automargin\":true,\"zerolinewidth\":2},\"scene\":{\"xaxis\":{\"backgroundcolor\":\"#E5ECF6\",\"gridcolor\":\"white\",\"linecolor\":\"white\",\"showbackground\":true,\"ticks\":\"\",\"zerolinecolor\":\"white\",\"gridwidth\":2},\"yaxis\":{\"backgroundcolor\":\"#E5ECF6\",\"gridcolor\":\"white\",\"linecolor\":\"white\",\"showbackground\":true,\"ticks\":\"\",\"zerolinecolor\":\"white\",\"gridwidth\":2},\"zaxis\":{\"backgroundcolor\":\"#E5ECF6\",\"gridcolor\":\"white\",\"linecolor\":\"white\",\"showbackground\":true,\"ticks\":\"\",\"zerolinecolor\":\"white\",\"gridwidth\":2}},\"shapedefaults\":{\"line\":{\"color\":\"#2a3f5f\"}},\"annotationdefaults\":{\"arrowcolor\":\"#2a3f5f\",\"arrowhead\":0,\"arrowwidth\":1},\"geo\":{\"bgcolor\":\"white\",\"landcolor\":\"#E5ECF6\",\"subunitcolor\":\"white\",\"showland\":true,\"showlakes\":true,\"lakecolor\":\"white\"},\"title\":{\"x\":0.05},\"mapbox\":{\"style\":\"light\"}}},\"xaxis\":{\"anchor\":\"y\",\"domain\":[0.0,1.0],\"title\":{\"text\":\"index\"}},\"yaxis\":{\"anchor\":\"x\",\"domain\":[0.0,1.0],\"title\":{\"text\":\"sum of value\"}},\"legend\":{\"title\":{\"text\":\"variable\"},\"tracegroupgap\":0,\"orientation\":\"h\",\"yanchor\":\"bottom\",\"y\":1.02,\"xanchor\":\"left\",\"x\":0},\"margin\":{\"t\":60},\"barmode\":\"group\",\"width\":3000},                        {\"responsive\": true}                    ).then(function(){\n",
       "                            \n",
       "var gd = document.getElementById('cd11396f-4d36-4dac-a659-3dd1a638d159');\n",
       "var x = new MutationObserver(function (mutations, observer) {{\n",
       "        var display = window.getComputedStyle(gd).display;\n",
       "        if (!display || display === 'none') {{\n",
       "            console.log([gd, 'removed!']);\n",
       "            Plotly.purge(gd);\n",
       "            observer.disconnect();\n",
       "        }}\n",
       "}});\n",
       "\n",
       "// Listen for the removal of the full notebook cells\n",
       "var notebookContainer = gd.closest('#notebook-container');\n",
       "if (notebookContainer) {{\n",
       "    x.observe(notebookContainer, {childList: true});\n",
       "}}\n",
       "\n",
       "// Listen for the clearing of the current output cell\n",
       "var outputEl = gd.closest('.output');\n",
       "if (outputEl) {{\n",
       "    x.observe(outputEl, {childList: true});\n",
       "}}\n",
       "\n",
       "                        })                };                });            </script>        </div>"
      ]
     },
     "metadata": {},
     "output_type": "display_data"
    }
   ],
   "source": [
    "fig = px.histogram(summary, x=summary.index, y=summary.columns, barmode='group', width=3000)\n",
    "fig.update_layout(legend=dict(\n",
    "    orientation=\"h\",\n",
    "    yanchor=\"bottom\",\n",
    "    y=1.02,\n",
    "    xanchor=\"left\",\n",
    "    x=0\n",
    "))"
   ]
  },
  {
   "cell_type": "code",
   "execution_count": 74,
   "id": "43d537c3",
   "metadata": {},
   "outputs": [
    {
     "data": {
      "application/vnd.plotly.v1+json": {
       "config": {
        "plotlyServerURL": "https://plot.ly"
       },
       "data": [
        {
         "alignmentgroup": "True",
         "bingroup": "x",
         "histfunc": "sum",
         "histnorm": "percent",
         "hovertemplate": "variable=grep<br>index=%{x}<br>percent of sum of value=%{y}<extra></extra>",
         "legendgroup": "grep",
         "marker": {
          "color": "#636efa",
          "pattern": {
           "shape": ""
          }
         },
         "name": "grep",
         "offsetgroup": "grep",
         "orientation": "v",
         "showlegend": true,
         "type": "histogram",
         "x": [
          "mov",
          "call",
          "test",
          "je",
          "cmp",
          "jmp",
          "lea",
          "jne",
          "add",
          "xor",
          "nopl",
          "movzbl",
          "push",
          "pop",
          "sub",
          "movq",
          "cmpb",
          "movb",
          "and",
          "bnd",
          "nop",
          "punpcklwd",
          "shl",
          "nopw",
          "jle",
          "movdqu",
          "movdqa",
          "jbe",
          "jg",
          "ja",
          "cmpq",
          "punpckhwd",
          "movl",
          "or",
          "jl",
          "movups",
          "movabs",
          "shr",
          "movslq",
          "js",
          "jae",
          "jo",
          "xchg",
          "movaps",
          "cs",
          "pand",
          "jb",
          "jge",
          "sete",
          "cmovae",
          "imul",
          "comiss",
          "cmpl",
          "pxor",
          "sar",
          "movsbl",
          "data16",
          "jns",
          "testb",
          "cmovle",
          "cmovne",
          "mul",
          "packuswb",
          "movss",
          "setne",
          "punpcklqdq",
          "movzwl",
          "addq",
          "not",
          "cmove",
          "mulss",
          "div",
          "notrack",
          "cvtsi2ss",
          "orb",
          "sbb",
          "addss",
          "cvttss2si",
          "orl",
          "rep",
          "neg",
          "movhps",
          "andb",
          "bt",
          "btc",
          "subss",
          "pcmpeqd",
          "cmpw",
          "movsbq",
          "subq",
          "cmovg",
          "pandn",
          "cmovbe",
          "paddq",
          "testl",
          "setbe",
          "cmovb",
          "adc",
          "orw",
          "movw",
          "andl",
          "cmovl",
          "movd",
          "seta",
          "por",
          "shufps",
          "setb",
          "cmova",
          "divss",
          "punpckldq",
          "orq",
          "setg",
          "cmovns",
          "pshufd",
          "punpckhdq",
          "shufpd",
          "setae",
          "cmovs",
          "jno",
          "andq",
          "addl",
          "movswl",
          "seto",
          "divq",
          "movhlps",
          "setl",
          "ror",
          "psrldq",
          "xorb",
          "notq",
          "idiv",
          "rol",
          "movsd",
          "cvtsi2sd",
          "comisd",
          "fstp",
          "cvttsd2si",
          "mulsd",
          "addsd",
          "subsd",
          "fxch",
          "fstpt",
          "movapd",
          "fcomi",
          "fucomip",
          "jnp",
          "jp",
          "fldt",
          "fucomi",
          "subl",
          "maxsd",
          "divsd",
          "btcq",
          "setge",
          "setle",
          "cmovge"
         ],
         "xaxis": "x",
         "y": [
          9728,
          1831,
          1826,
          1731,
          1532,
          1388,
          1118,
          1106,
          910,
          874,
          736,
          712,
          657,
          651,
          533,
          354,
          314,
          291,
          245,
          225,
          194,
          192,
          186,
          183,
          170,
          165,
          165,
          162,
          161,
          142,
          136,
          128,
          117,
          113,
          111,
          110,
          95,
          95,
          91,
          90,
          90,
          81,
          77,
          71,
          70,
          68,
          62,
          62,
          58,
          53,
          52,
          50,
          50,
          49,
          44,
          42,
          42,
          41,
          41,
          40,
          36,
          35,
          32,
          31,
          31,
          29,
          29,
          26,
          26,
          23,
          22,
          20,
          20,
          20,
          16,
          15,
          14,
          14,
          12,
          10,
          9,
          9,
          8,
          8,
          7,
          7,
          7,
          7,
          7,
          6,
          6,
          6,
          6,
          6,
          5,
          5,
          5,
          5,
          4,
          4,
          3,
          3,
          3,
          3,
          3,
          3,
          2,
          2,
          2,
          2,
          2,
          2,
          2,
          1,
          1,
          1,
          1,
          1,
          1,
          1,
          1,
          1,
          1,
          1,
          1,
          1,
          1,
          1,
          1,
          0,
          0,
          0,
          0,
          0,
          0,
          0,
          0,
          0,
          0,
          0,
          0,
          0,
          0,
          0,
          0,
          0,
          0,
          0,
          0,
          0,
          0,
          0,
          0,
          0,
          0,
          0
         ],
         "yaxis": "y"
        },
        {
         "alignmentgroup": "True",
         "bingroup": "x",
         "histfunc": "sum",
         "histnorm": "percent",
         "hovertemplate": "variable=sed<br>index=%{x}<br>percent of sum of value=%{y}<extra></extra>",
         "legendgroup": "sed",
         "marker": {
          "color": "#EF553B",
          "pattern": {
           "shape": ""
          }
         },
         "name": "sed",
         "offsetgroup": "sed",
         "orientation": "v",
         "showlegend": true,
         "type": "histogram",
         "x": [
          "mov",
          "call",
          "test",
          "je",
          "cmp",
          "jmp",
          "lea",
          "jne",
          "add",
          "xor",
          "nopl",
          "movzbl",
          "push",
          "pop",
          "sub",
          "movq",
          "cmpb",
          "movb",
          "and",
          "bnd",
          "nop",
          "punpcklwd",
          "shl",
          "nopw",
          "jle",
          "movdqu",
          "movdqa",
          "jbe",
          "jg",
          "ja",
          "cmpq",
          "punpckhwd",
          "movl",
          "or",
          "jl",
          "movups",
          "movabs",
          "shr",
          "movslq",
          "js",
          "jae",
          "jo",
          "xchg",
          "movaps",
          "cs",
          "pand",
          "jb",
          "jge",
          "sete",
          "cmovae",
          "imul",
          "comiss",
          "cmpl",
          "pxor",
          "sar",
          "movsbl",
          "data16",
          "jns",
          "testb",
          "cmovle",
          "cmovne",
          "mul",
          "packuswb",
          "movss",
          "setne",
          "punpcklqdq",
          "movzwl",
          "addq",
          "not",
          "cmove",
          "mulss",
          "div",
          "notrack",
          "cvtsi2ss",
          "orb",
          "sbb",
          "addss",
          "cvttss2si",
          "orl",
          "rep",
          "neg",
          "movhps",
          "andb",
          "bt",
          "btc",
          "subss",
          "pcmpeqd",
          "cmpw",
          "movsbq",
          "subq",
          "cmovg",
          "pandn",
          "cmovbe",
          "paddq",
          "testl",
          "setbe",
          "cmovb",
          "adc",
          "orw",
          "movw",
          "andl",
          "cmovl",
          "movd",
          "seta",
          "por",
          "shufps",
          "setb",
          "cmova",
          "divss",
          "punpckldq",
          "orq",
          "setg",
          "cmovns",
          "pshufd",
          "punpckhdq",
          "shufpd",
          "setae",
          "cmovs",
          "jno",
          "andq",
          "addl",
          "movswl",
          "seto",
          "divq",
          "movhlps",
          "setl",
          "ror",
          "psrldq",
          "xorb",
          "notq",
          "idiv",
          "rol",
          "movsd",
          "cvtsi2sd",
          "comisd",
          "fstp",
          "cvttsd2si",
          "mulsd",
          "addsd",
          "subsd",
          "fxch",
          "fstpt",
          "movapd",
          "fcomi",
          "fucomip",
          "jnp",
          "jp",
          "fldt",
          "fucomi",
          "subl",
          "maxsd",
          "divsd",
          "btcq",
          "setge",
          "setle",
          "cmovge"
         ],
         "xaxis": "x",
         "y": [
          5190,
          1268,
          789,
          796,
          856,
          759,
          838,
          702,
          475,
          563,
          508,
          283,
          477,
          449,
          235,
          222,
          153,
          190,
          127,
          211,
          154,
          0,
          98,
          111,
          91,
          11,
          26,
          87,
          59,
          68,
          82,
          0,
          46,
          61,
          19,
          12,
          12,
          65,
          97,
          56,
          75,
          5,
          56,
          63,
          40,
          0,
          21,
          19,
          46,
          3,
          8,
          0,
          48,
          6,
          16,
          28,
          40,
          7,
          73,
          1,
          21,
          4,
          0,
          0,
          43,
          0,
          5,
          15,
          16,
          22,
          0,
          1,
          18,
          0,
          12,
          4,
          0,
          0,
          4,
          4,
          1,
          0,
          8,
          7,
          0,
          0,
          0,
          2,
          1,
          0,
          2,
          0,
          5,
          0,
          0,
          5,
          4,
          1,
          0,
          0,
          3,
          1,
          0,
          2,
          0,
          0,
          2,
          0,
          0,
          0,
          3,
          3,
          2,
          0,
          0,
          0,
          0,
          1,
          0,
          2,
          1,
          1,
          4,
          1,
          0,
          0,
          0,
          0,
          0,
          3,
          1,
          0,
          0,
          0,
          0,
          0,
          0,
          0,
          0,
          0,
          0,
          0,
          0,
          0,
          0,
          0,
          0,
          0,
          0,
          0,
          0,
          0,
          0,
          0,
          0,
          0
         ],
         "yaxis": "y"
        },
        {
         "alignmentgroup": "True",
         "bingroup": "x",
         "histfunc": "sum",
         "histnorm": "percent",
         "hovertemplate": "variable=sort<br>index=%{x}<br>percent of sum of value=%{y}<extra></extra>",
         "legendgroup": "sort",
         "marker": {
          "color": "#00cc96",
          "pattern": {
           "shape": ""
          }
         },
         "name": "sort",
         "offsetgroup": "sort",
         "orientation": "v",
         "showlegend": true,
         "type": "histogram",
         "x": [
          "mov",
          "call",
          "test",
          "je",
          "cmp",
          "jmp",
          "lea",
          "jne",
          "add",
          "xor",
          "nopl",
          "movzbl",
          "push",
          "pop",
          "sub",
          "movq",
          "cmpb",
          "movb",
          "and",
          "bnd",
          "nop",
          "punpcklwd",
          "shl",
          "nopw",
          "jle",
          "movdqu",
          "movdqa",
          "jbe",
          "jg",
          "ja",
          "cmpq",
          "punpckhwd",
          "movl",
          "or",
          "jl",
          "movups",
          "movabs",
          "shr",
          "movslq",
          "js",
          "jae",
          "jo",
          "xchg",
          "movaps",
          "cs",
          "pand",
          "jb",
          "jge",
          "sete",
          "cmovae",
          "imul",
          "comiss",
          "cmpl",
          "pxor",
          "sar",
          "movsbl",
          "data16",
          "jns",
          "testb",
          "cmovle",
          "cmovne",
          "mul",
          "packuswb",
          "movss",
          "setne",
          "punpcklqdq",
          "movzwl",
          "addq",
          "not",
          "cmove",
          "mulss",
          "div",
          "notrack",
          "cvtsi2ss",
          "orb",
          "sbb",
          "addss",
          "cvttss2si",
          "orl",
          "rep",
          "neg",
          "movhps",
          "andb",
          "bt",
          "btc",
          "subss",
          "pcmpeqd",
          "cmpw",
          "movsbq",
          "subq",
          "cmovg",
          "pandn",
          "cmovbe",
          "paddq",
          "testl",
          "setbe",
          "cmovb",
          "adc",
          "orw",
          "movw",
          "andl",
          "cmovl",
          "movd",
          "seta",
          "por",
          "shufps",
          "setb",
          "cmova",
          "divss",
          "punpckldq",
          "orq",
          "setg",
          "cmovns",
          "pshufd",
          "punpckhdq",
          "shufpd",
          "setae",
          "cmovs",
          "jno",
          "andq",
          "addl",
          "movswl",
          "seto",
          "divq",
          "movhlps",
          "setl",
          "ror",
          "psrldq",
          "xorb",
          "notq",
          "idiv",
          "rol",
          "movsd",
          "cvtsi2sd",
          "comisd",
          "fstp",
          "cvttsd2si",
          "mulsd",
          "addsd",
          "subsd",
          "fxch",
          "fstpt",
          "movapd",
          "fcomi",
          "fucomip",
          "jnp",
          "jp",
          "fldt",
          "fucomi",
          "subl",
          "maxsd",
          "divsd",
          "btcq",
          "setge",
          "setle",
          "cmovge"
         ],
         "xaxis": "x",
         "y": [
          4599,
          948,
          562,
          609,
          738,
          597,
          844,
          501,
          601,
          775,
          399,
          298,
          414,
          322,
          360,
          148,
          172,
          126,
          140,
          234,
          153,
          0,
          89,
          75,
          20,
          38,
          19,
          139,
          31,
          109,
          62,
          0,
          34,
          71,
          0,
          61,
          35,
          82,
          50,
          38,
          54,
          11,
          38,
          28,
          45,
          0,
          41,
          1,
          38,
          7,
          13,
          17,
          13,
          32,
          25,
          37,
          31,
          10,
          11,
          1,
          9,
          19,
          0,
          10,
          26,
          0,
          6,
          9,
          24,
          14,
          8,
          7,
          10,
          10,
          6,
          16,
          6,
          6,
          0,
          10,
          14,
          0,
          3,
          3,
          5,
          3,
          0,
          1,
          0,
          6,
          1,
          0,
          16,
          0,
          2,
          3,
          8,
          2,
          0,
          2,
          4,
          1,
          0,
          6,
          0,
          0,
          6,
          12,
          2,
          0,
          2,
          1,
          1,
          0,
          0,
          0,
          8,
          3,
          2,
          0,
          1,
          0,
          2,
          2,
          0,
          0,
          21,
          0,
          0,
          0,
          0,
          44,
          20,
          19,
          14,
          12,
          8,
          8,
          7,
          4,
          4,
          3,
          3,
          2,
          2,
          2,
          1,
          1,
          1,
          1,
          1,
          1,
          1,
          0,
          0,
          0
         ],
         "yaxis": "y"
        },
        {
         "alignmentgroup": "True",
         "bingroup": "x",
         "histfunc": "sum",
         "histnorm": "percent",
         "hovertemplate": "variable=diff<br>index=%{x}<br>percent of sum of value=%{y}<extra></extra>",
         "legendgroup": "diff",
         "marker": {
          "color": "#ab63fa",
          "pattern": {
           "shape": ""
          }
         },
         "name": "diff",
         "offsetgroup": "diff",
         "orientation": "v",
         "showlegend": true,
         "type": "histogram",
         "x": [
          "mov",
          "call",
          "test",
          "je",
          "cmp",
          "jmp",
          "lea",
          "jne",
          "add",
          "xor",
          "nopl",
          "movzbl",
          "push",
          "pop",
          "sub",
          "movq",
          "cmpb",
          "movb",
          "and",
          "bnd",
          "nop",
          "punpcklwd",
          "shl",
          "nopw",
          "jle",
          "movdqu",
          "movdqa",
          "jbe",
          "jg",
          "ja",
          "cmpq",
          "punpckhwd",
          "movl",
          "or",
          "jl",
          "movups",
          "movabs",
          "shr",
          "movslq",
          "js",
          "jae",
          "jo",
          "xchg",
          "movaps",
          "cs",
          "pand",
          "jb",
          "jge",
          "sete",
          "cmovae",
          "imul",
          "comiss",
          "cmpl",
          "pxor",
          "sar",
          "movsbl",
          "data16",
          "jns",
          "testb",
          "cmovle",
          "cmovne",
          "mul",
          "packuswb",
          "movss",
          "setne",
          "punpcklqdq",
          "movzwl",
          "addq",
          "not",
          "cmove",
          "mulss",
          "div",
          "notrack",
          "cvtsi2ss",
          "orb",
          "sbb",
          "addss",
          "cvttss2si",
          "orl",
          "rep",
          "neg",
          "movhps",
          "andb",
          "bt",
          "btc",
          "subss",
          "pcmpeqd",
          "cmpw",
          "movsbq",
          "subq",
          "cmovg",
          "pandn",
          "cmovbe",
          "paddq",
          "testl",
          "setbe",
          "cmovb",
          "adc",
          "orw",
          "movw",
          "andl",
          "cmovl",
          "movd",
          "seta",
          "por",
          "shufps",
          "setb",
          "cmova",
          "divss",
          "punpckldq",
          "orq",
          "setg",
          "cmovns",
          "pshufd",
          "punpckhdq",
          "shufpd",
          "setae",
          "cmovs",
          "jno",
          "andq",
          "addl",
          "movswl",
          "seto",
          "divq",
          "movhlps",
          "setl",
          "ror",
          "psrldq",
          "xorb",
          "notq",
          "idiv",
          "rol",
          "movsd",
          "cvtsi2sd",
          "comisd",
          "fstp",
          "cvttsd2si",
          "mulsd",
          "addsd",
          "subsd",
          "fxch",
          "fstpt",
          "movapd",
          "fcomi",
          "fucomip",
          "jnp",
          "jp",
          "fldt",
          "fucomi",
          "subl",
          "maxsd",
          "divsd",
          "btcq",
          "setge",
          "setle",
          "cmovge"
         ],
         "xaxis": "x",
         "y": [
          5869,
          1141,
          938,
          1079,
          1108,
          972,
          1131,
          706,
          661,
          694,
          487,
          353,
          494,
          441,
          489,
          151,
          274,
          299,
          145,
          220,
          159,
          0,
          49,
          115,
          66,
          4,
          24,
          91,
          65,
          93,
          66,
          0,
          100,
          27,
          36,
          12,
          48,
          64,
          75,
          62,
          118,
          6,
          56,
          42,
          44,
          0,
          33,
          39,
          58,
          6,
          49,
          15,
          78,
          6,
          50,
          25,
          29,
          23,
          35,
          12,
          31,
          5,
          0,
          8,
          44,
          0,
          4,
          21,
          8,
          33,
          4,
          27,
          15,
          6,
          0,
          9,
          4,
          6,
          0,
          7,
          18,
          0,
          1,
          4,
          3,
          3,
          0,
          0,
          0,
          3,
          5,
          0,
          2,
          0,
          1,
          2,
          3,
          1,
          0,
          0,
          3,
          8,
          0,
          8,
          0,
          0,
          1,
          11,
          1,
          0,
          7,
          4,
          3,
          0,
          0,
          0,
          1,
          4,
          1,
          0,
          1,
          0,
          4,
          4,
          0,
          9,
          4,
          0,
          0,
          0,
          2,
          6,
          0,
          0,
          0,
          0,
          0,
          0,
          0,
          0,
          0,
          0,
          0,
          0,
          0,
          0,
          0,
          0,
          0,
          0,
          0,
          0,
          0,
          8,
          6,
          6
         ],
         "yaxis": "y"
        }
       ],
       "layout": {
        "barmode": "group",
        "legend": {
         "orientation": "h",
         "title": {
          "text": "variable"
         },
         "tracegroupgap": 0,
         "x": 0,
         "xanchor": "left",
         "y": 1.02,
         "yanchor": "bottom"
        },
        "margin": {
         "t": 60
        },
        "template": {
         "data": {
          "bar": [
           {
            "error_x": {
             "color": "#2a3f5f"
            },
            "error_y": {
             "color": "#2a3f5f"
            },
            "marker": {
             "line": {
              "color": "#E5ECF6",
              "width": 0.5
             },
             "pattern": {
              "fillmode": "overlay",
              "size": 10,
              "solidity": 0.2
             }
            },
            "type": "bar"
           }
          ],
          "barpolar": [
           {
            "marker": {
             "line": {
              "color": "#E5ECF6",
              "width": 0.5
             },
             "pattern": {
              "fillmode": "overlay",
              "size": 10,
              "solidity": 0.2
             }
            },
            "type": "barpolar"
           }
          ],
          "carpet": [
           {
            "aaxis": {
             "endlinecolor": "#2a3f5f",
             "gridcolor": "white",
             "linecolor": "white",
             "minorgridcolor": "white",
             "startlinecolor": "#2a3f5f"
            },
            "baxis": {
             "endlinecolor": "#2a3f5f",
             "gridcolor": "white",
             "linecolor": "white",
             "minorgridcolor": "white",
             "startlinecolor": "#2a3f5f"
            },
            "type": "carpet"
           }
          ],
          "choropleth": [
           {
            "colorbar": {
             "outlinewidth": 0,
             "ticks": ""
            },
            "type": "choropleth"
           }
          ],
          "contour": [
           {
            "colorbar": {
             "outlinewidth": 0,
             "ticks": ""
            },
            "colorscale": [
             [
              0,
              "#0d0887"
             ],
             [
              0.1111111111111111,
              "#46039f"
             ],
             [
              0.2222222222222222,
              "#7201a8"
             ],
             [
              0.3333333333333333,
              "#9c179e"
             ],
             [
              0.4444444444444444,
              "#bd3786"
             ],
             [
              0.5555555555555556,
              "#d8576b"
             ],
             [
              0.6666666666666666,
              "#ed7953"
             ],
             [
              0.7777777777777778,
              "#fb9f3a"
             ],
             [
              0.8888888888888888,
              "#fdca26"
             ],
             [
              1,
              "#f0f921"
             ]
            ],
            "type": "contour"
           }
          ],
          "contourcarpet": [
           {
            "colorbar": {
             "outlinewidth": 0,
             "ticks": ""
            },
            "type": "contourcarpet"
           }
          ],
          "heatmap": [
           {
            "colorbar": {
             "outlinewidth": 0,
             "ticks": ""
            },
            "colorscale": [
             [
              0,
              "#0d0887"
             ],
             [
              0.1111111111111111,
              "#46039f"
             ],
             [
              0.2222222222222222,
              "#7201a8"
             ],
             [
              0.3333333333333333,
              "#9c179e"
             ],
             [
              0.4444444444444444,
              "#bd3786"
             ],
             [
              0.5555555555555556,
              "#d8576b"
             ],
             [
              0.6666666666666666,
              "#ed7953"
             ],
             [
              0.7777777777777778,
              "#fb9f3a"
             ],
             [
              0.8888888888888888,
              "#fdca26"
             ],
             [
              1,
              "#f0f921"
             ]
            ],
            "type": "heatmap"
           }
          ],
          "heatmapgl": [
           {
            "colorbar": {
             "outlinewidth": 0,
             "ticks": ""
            },
            "colorscale": [
             [
              0,
              "#0d0887"
             ],
             [
              0.1111111111111111,
              "#46039f"
             ],
             [
              0.2222222222222222,
              "#7201a8"
             ],
             [
              0.3333333333333333,
              "#9c179e"
             ],
             [
              0.4444444444444444,
              "#bd3786"
             ],
             [
              0.5555555555555556,
              "#d8576b"
             ],
             [
              0.6666666666666666,
              "#ed7953"
             ],
             [
              0.7777777777777778,
              "#fb9f3a"
             ],
             [
              0.8888888888888888,
              "#fdca26"
             ],
             [
              1,
              "#f0f921"
             ]
            ],
            "type": "heatmapgl"
           }
          ],
          "histogram": [
           {
            "marker": {
             "pattern": {
              "fillmode": "overlay",
              "size": 10,
              "solidity": 0.2
             }
            },
            "type": "histogram"
           }
          ],
          "histogram2d": [
           {
            "colorbar": {
             "outlinewidth": 0,
             "ticks": ""
            },
            "colorscale": [
             [
              0,
              "#0d0887"
             ],
             [
              0.1111111111111111,
              "#46039f"
             ],
             [
              0.2222222222222222,
              "#7201a8"
             ],
             [
              0.3333333333333333,
              "#9c179e"
             ],
             [
              0.4444444444444444,
              "#bd3786"
             ],
             [
              0.5555555555555556,
              "#d8576b"
             ],
             [
              0.6666666666666666,
              "#ed7953"
             ],
             [
              0.7777777777777778,
              "#fb9f3a"
             ],
             [
              0.8888888888888888,
              "#fdca26"
             ],
             [
              1,
              "#f0f921"
             ]
            ],
            "type": "histogram2d"
           }
          ],
          "histogram2dcontour": [
           {
            "colorbar": {
             "outlinewidth": 0,
             "ticks": ""
            },
            "colorscale": [
             [
              0,
              "#0d0887"
             ],
             [
              0.1111111111111111,
              "#46039f"
             ],
             [
              0.2222222222222222,
              "#7201a8"
             ],
             [
              0.3333333333333333,
              "#9c179e"
             ],
             [
              0.4444444444444444,
              "#bd3786"
             ],
             [
              0.5555555555555556,
              "#d8576b"
             ],
             [
              0.6666666666666666,
              "#ed7953"
             ],
             [
              0.7777777777777778,
              "#fb9f3a"
             ],
             [
              0.8888888888888888,
              "#fdca26"
             ],
             [
              1,
              "#f0f921"
             ]
            ],
            "type": "histogram2dcontour"
           }
          ],
          "mesh3d": [
           {
            "colorbar": {
             "outlinewidth": 0,
             "ticks": ""
            },
            "type": "mesh3d"
           }
          ],
          "parcoords": [
           {
            "line": {
             "colorbar": {
              "outlinewidth": 0,
              "ticks": ""
             }
            },
            "type": "parcoords"
           }
          ],
          "pie": [
           {
            "automargin": true,
            "type": "pie"
           }
          ],
          "scatter": [
           {
            "fillpattern": {
             "fillmode": "overlay",
             "size": 10,
             "solidity": 0.2
            },
            "type": "scatter"
           }
          ],
          "scatter3d": [
           {
            "line": {
             "colorbar": {
              "outlinewidth": 0,
              "ticks": ""
             }
            },
            "marker": {
             "colorbar": {
              "outlinewidth": 0,
              "ticks": ""
             }
            },
            "type": "scatter3d"
           }
          ],
          "scattercarpet": [
           {
            "marker": {
             "colorbar": {
              "outlinewidth": 0,
              "ticks": ""
             }
            },
            "type": "scattercarpet"
           }
          ],
          "scattergeo": [
           {
            "marker": {
             "colorbar": {
              "outlinewidth": 0,
              "ticks": ""
             }
            },
            "type": "scattergeo"
           }
          ],
          "scattergl": [
           {
            "marker": {
             "colorbar": {
              "outlinewidth": 0,
              "ticks": ""
             }
            },
            "type": "scattergl"
           }
          ],
          "scattermapbox": [
           {
            "marker": {
             "colorbar": {
              "outlinewidth": 0,
              "ticks": ""
             }
            },
            "type": "scattermapbox"
           }
          ],
          "scatterpolar": [
           {
            "marker": {
             "colorbar": {
              "outlinewidth": 0,
              "ticks": ""
             }
            },
            "type": "scatterpolar"
           }
          ],
          "scatterpolargl": [
           {
            "marker": {
             "colorbar": {
              "outlinewidth": 0,
              "ticks": ""
             }
            },
            "type": "scatterpolargl"
           }
          ],
          "scatterternary": [
           {
            "marker": {
             "colorbar": {
              "outlinewidth": 0,
              "ticks": ""
             }
            },
            "type": "scatterternary"
           }
          ],
          "surface": [
           {
            "colorbar": {
             "outlinewidth": 0,
             "ticks": ""
            },
            "colorscale": [
             [
              0,
              "#0d0887"
             ],
             [
              0.1111111111111111,
              "#46039f"
             ],
             [
              0.2222222222222222,
              "#7201a8"
             ],
             [
              0.3333333333333333,
              "#9c179e"
             ],
             [
              0.4444444444444444,
              "#bd3786"
             ],
             [
              0.5555555555555556,
              "#d8576b"
             ],
             [
              0.6666666666666666,
              "#ed7953"
             ],
             [
              0.7777777777777778,
              "#fb9f3a"
             ],
             [
              0.8888888888888888,
              "#fdca26"
             ],
             [
              1,
              "#f0f921"
             ]
            ],
            "type": "surface"
           }
          ],
          "table": [
           {
            "cells": {
             "fill": {
              "color": "#EBF0F8"
             },
             "line": {
              "color": "white"
             }
            },
            "header": {
             "fill": {
              "color": "#C8D4E3"
             },
             "line": {
              "color": "white"
             }
            },
            "type": "table"
           }
          ]
         },
         "layout": {
          "annotationdefaults": {
           "arrowcolor": "#2a3f5f",
           "arrowhead": 0,
           "arrowwidth": 1
          },
          "autotypenumbers": "strict",
          "coloraxis": {
           "colorbar": {
            "outlinewidth": 0,
            "ticks": ""
           }
          },
          "colorscale": {
           "diverging": [
            [
             0,
             "#8e0152"
            ],
            [
             0.1,
             "#c51b7d"
            ],
            [
             0.2,
             "#de77ae"
            ],
            [
             0.3,
             "#f1b6da"
            ],
            [
             0.4,
             "#fde0ef"
            ],
            [
             0.5,
             "#f7f7f7"
            ],
            [
             0.6,
             "#e6f5d0"
            ],
            [
             0.7,
             "#b8e186"
            ],
            [
             0.8,
             "#7fbc41"
            ],
            [
             0.9,
             "#4d9221"
            ],
            [
             1,
             "#276419"
            ]
           ],
           "sequential": [
            [
             0,
             "#0d0887"
            ],
            [
             0.1111111111111111,
             "#46039f"
            ],
            [
             0.2222222222222222,
             "#7201a8"
            ],
            [
             0.3333333333333333,
             "#9c179e"
            ],
            [
             0.4444444444444444,
             "#bd3786"
            ],
            [
             0.5555555555555556,
             "#d8576b"
            ],
            [
             0.6666666666666666,
             "#ed7953"
            ],
            [
             0.7777777777777778,
             "#fb9f3a"
            ],
            [
             0.8888888888888888,
             "#fdca26"
            ],
            [
             1,
             "#f0f921"
            ]
           ],
           "sequentialminus": [
            [
             0,
             "#0d0887"
            ],
            [
             0.1111111111111111,
             "#46039f"
            ],
            [
             0.2222222222222222,
             "#7201a8"
            ],
            [
             0.3333333333333333,
             "#9c179e"
            ],
            [
             0.4444444444444444,
             "#bd3786"
            ],
            [
             0.5555555555555556,
             "#d8576b"
            ],
            [
             0.6666666666666666,
             "#ed7953"
            ],
            [
             0.7777777777777778,
             "#fb9f3a"
            ],
            [
             0.8888888888888888,
             "#fdca26"
            ],
            [
             1,
             "#f0f921"
            ]
           ]
          },
          "colorway": [
           "#636efa",
           "#EF553B",
           "#00cc96",
           "#ab63fa",
           "#FFA15A",
           "#19d3f3",
           "#FF6692",
           "#B6E880",
           "#FF97FF",
           "#FECB52"
          ],
          "font": {
           "color": "#2a3f5f"
          },
          "geo": {
           "bgcolor": "white",
           "lakecolor": "white",
           "landcolor": "#E5ECF6",
           "showlakes": true,
           "showland": true,
           "subunitcolor": "white"
          },
          "hoverlabel": {
           "align": "left"
          },
          "hovermode": "closest",
          "mapbox": {
           "style": "light"
          },
          "paper_bgcolor": "white",
          "plot_bgcolor": "#E5ECF6",
          "polar": {
           "angularaxis": {
            "gridcolor": "white",
            "linecolor": "white",
            "ticks": ""
           },
           "bgcolor": "#E5ECF6",
           "radialaxis": {
            "gridcolor": "white",
            "linecolor": "white",
            "ticks": ""
           }
          },
          "scene": {
           "xaxis": {
            "backgroundcolor": "#E5ECF6",
            "gridcolor": "white",
            "gridwidth": 2,
            "linecolor": "white",
            "showbackground": true,
            "ticks": "",
            "zerolinecolor": "white"
           },
           "yaxis": {
            "backgroundcolor": "#E5ECF6",
            "gridcolor": "white",
            "gridwidth": 2,
            "linecolor": "white",
            "showbackground": true,
            "ticks": "",
            "zerolinecolor": "white"
           },
           "zaxis": {
            "backgroundcolor": "#E5ECF6",
            "gridcolor": "white",
            "gridwidth": 2,
            "linecolor": "white",
            "showbackground": true,
            "ticks": "",
            "zerolinecolor": "white"
           }
          },
          "shapedefaults": {
           "line": {
            "color": "#2a3f5f"
           }
          },
          "ternary": {
           "aaxis": {
            "gridcolor": "white",
            "linecolor": "white",
            "ticks": ""
           },
           "baxis": {
            "gridcolor": "white",
            "linecolor": "white",
            "ticks": ""
           },
           "bgcolor": "#E5ECF6",
           "caxis": {
            "gridcolor": "white",
            "linecolor": "white",
            "ticks": ""
           }
          },
          "title": {
           "x": 0.05
          },
          "xaxis": {
           "automargin": true,
           "gridcolor": "white",
           "linecolor": "white",
           "ticks": "",
           "title": {
            "standoff": 15
           },
           "zerolinecolor": "white",
           "zerolinewidth": 2
          },
          "yaxis": {
           "automargin": true,
           "gridcolor": "white",
           "linecolor": "white",
           "ticks": "",
           "title": {
            "standoff": 15
           },
           "zerolinecolor": "white",
           "zerolinewidth": 2
          }
         }
        },
        "width": 3000,
        "xaxis": {
         "anchor": "y",
         "domain": [
          0,
          1
         ],
         "title": {
          "text": "index"
         }
        },
        "yaxis": {
         "anchor": "x",
         "domain": [
          0,
          1
         ],
         "title": {
          "text": "percent of sum of value"
         }
        }
       }
      },
      "text/html": [
       "<div>                            <div id=\"b0d6aca6-0755-4e3b-8314-824a97435608\" class=\"plotly-graph-div\" style=\"height:525px; width:3000px;\"></div>            <script type=\"text/javascript\">                require([\"plotly\"], function(Plotly) {                    window.PLOTLYENV=window.PLOTLYENV || {};                                    if (document.getElementById(\"b0d6aca6-0755-4e3b-8314-824a97435608\")) {                    Plotly.newPlot(                        \"b0d6aca6-0755-4e3b-8314-824a97435608\",                        [{\"alignmentgroup\":\"True\",\"bingroup\":\"x\",\"histfunc\":\"sum\",\"histnorm\":\"percent\",\"hovertemplate\":\"variable=grep<br>index=%{x}<br>percent of sum of value=%{y}<extra></extra>\",\"legendgroup\":\"grep\",\"marker\":{\"color\":\"#636efa\",\"pattern\":{\"shape\":\"\"}},\"name\":\"grep\",\"offsetgroup\":\"grep\",\"orientation\":\"v\",\"showlegend\":true,\"x\":[\"mov\",\"call\",\"test\",\"je\",\"cmp\",\"jmp\",\"lea\",\"jne\",\"add\",\"xor\",\"nopl\",\"movzbl\",\"push\",\"pop\",\"sub\",\"movq\",\"cmpb\",\"movb\",\"and\",\"bnd\",\"nop\",\"punpcklwd\",\"shl\",\"nopw\",\"jle\",\"movdqu\",\"movdqa\",\"jbe\",\"jg\",\"ja\",\"cmpq\",\"punpckhwd\",\"movl\",\"or\",\"jl\",\"movups\",\"movabs\",\"shr\",\"movslq\",\"js\",\"jae\",\"jo\",\"xchg\",\"movaps\",\"cs\",\"pand\",\"jb\",\"jge\",\"sete\",\"cmovae\",\"imul\",\"comiss\",\"cmpl\",\"pxor\",\"sar\",\"movsbl\",\"data16\",\"jns\",\"testb\",\"cmovle\",\"cmovne\",\"mul\",\"packuswb\",\"movss\",\"setne\",\"punpcklqdq\",\"movzwl\",\"addq\",\"not\",\"cmove\",\"mulss\",\"div\",\"notrack\",\"cvtsi2ss\",\"orb\",\"sbb\",\"addss\",\"cvttss2si\",\"orl\",\"rep\",\"neg\",\"movhps\",\"andb\",\"bt\",\"btc\",\"subss\",\"pcmpeqd\",\"cmpw\",\"movsbq\",\"subq\",\"cmovg\",\"pandn\",\"cmovbe\",\"paddq\",\"testl\",\"setbe\",\"cmovb\",\"adc\",\"orw\",\"movw\",\"andl\",\"cmovl\",\"movd\",\"seta\",\"por\",\"shufps\",\"setb\",\"cmova\",\"divss\",\"punpckldq\",\"orq\",\"setg\",\"cmovns\",\"pshufd\",\"punpckhdq\",\"shufpd\",\"setae\",\"cmovs\",\"jno\",\"andq\",\"addl\",\"movswl\",\"seto\",\"divq\",\"movhlps\",\"setl\",\"ror\",\"psrldq\",\"xorb\",\"notq\",\"idiv\",\"rol\",\"movsd\",\"cvtsi2sd\",\"comisd\",\"fstp\",\"cvttsd2si\",\"mulsd\",\"addsd\",\"subsd\",\"fxch\",\"fstpt\",\"movapd\",\"fcomi\",\"fucomip\",\"jnp\",\"jp\",\"fldt\",\"fucomi\",\"subl\",\"maxsd\",\"divsd\",\"btcq\",\"setge\",\"setle\",\"cmovge\"],\"xaxis\":\"x\",\"y\":[9728.0,1831.0,1826.0,1731.0,1532.0,1388.0,1118.0,1106.0,910.0,874.0,736.0,712.0,657.0,651.0,533.0,354.0,314.0,291.0,245.0,225.0,194.0,192.0,186.0,183.0,170.0,165.0,165.0,162.0,161.0,142.0,136.0,128.0,117.0,113.0,111.0,110.0,95.0,95.0,91.0,90.0,90.0,81.0,77.0,71.0,70.0,68.0,62.0,62.0,58.0,53.0,52.0,50.0,50.0,49.0,44.0,42.0,42.0,41.0,41.0,40.0,36.0,35.0,32.0,31.0,31.0,29.0,29.0,26.0,26.0,23.0,22.0,20.0,20.0,20.0,16.0,15.0,14.0,14.0,12.0,10.0,9.0,9.0,8.0,8.0,7.0,7.0,7.0,7.0,7.0,6.0,6.0,6.0,6.0,6.0,5.0,5.0,5.0,5.0,4.0,4.0,3.0,3.0,3.0,3.0,3.0,3.0,2.0,2.0,2.0,2.0,2.0,2.0,2.0,1.0,1.0,1.0,1.0,1.0,1.0,1.0,1.0,1.0,1.0,1.0,1.0,1.0,1.0,1.0,1.0,0.0,0.0,0.0,0.0,0.0,0.0,0.0,0.0,0.0,0.0,0.0,0.0,0.0,0.0,0.0,0.0,0.0,0.0,0.0,0.0,0.0,0.0,0.0,0.0,0.0,0.0,0.0],\"yaxis\":\"y\",\"type\":\"histogram\"},{\"alignmentgroup\":\"True\",\"bingroup\":\"x\",\"histfunc\":\"sum\",\"histnorm\":\"percent\",\"hovertemplate\":\"variable=sed<br>index=%{x}<br>percent of sum of value=%{y}<extra></extra>\",\"legendgroup\":\"sed\",\"marker\":{\"color\":\"#EF553B\",\"pattern\":{\"shape\":\"\"}},\"name\":\"sed\",\"offsetgroup\":\"sed\",\"orientation\":\"v\",\"showlegend\":true,\"x\":[\"mov\",\"call\",\"test\",\"je\",\"cmp\",\"jmp\",\"lea\",\"jne\",\"add\",\"xor\",\"nopl\",\"movzbl\",\"push\",\"pop\",\"sub\",\"movq\",\"cmpb\",\"movb\",\"and\",\"bnd\",\"nop\",\"punpcklwd\",\"shl\",\"nopw\",\"jle\",\"movdqu\",\"movdqa\",\"jbe\",\"jg\",\"ja\",\"cmpq\",\"punpckhwd\",\"movl\",\"or\",\"jl\",\"movups\",\"movabs\",\"shr\",\"movslq\",\"js\",\"jae\",\"jo\",\"xchg\",\"movaps\",\"cs\",\"pand\",\"jb\",\"jge\",\"sete\",\"cmovae\",\"imul\",\"comiss\",\"cmpl\",\"pxor\",\"sar\",\"movsbl\",\"data16\",\"jns\",\"testb\",\"cmovle\",\"cmovne\",\"mul\",\"packuswb\",\"movss\",\"setne\",\"punpcklqdq\",\"movzwl\",\"addq\",\"not\",\"cmove\",\"mulss\",\"div\",\"notrack\",\"cvtsi2ss\",\"orb\",\"sbb\",\"addss\",\"cvttss2si\",\"orl\",\"rep\",\"neg\",\"movhps\",\"andb\",\"bt\",\"btc\",\"subss\",\"pcmpeqd\",\"cmpw\",\"movsbq\",\"subq\",\"cmovg\",\"pandn\",\"cmovbe\",\"paddq\",\"testl\",\"setbe\",\"cmovb\",\"adc\",\"orw\",\"movw\",\"andl\",\"cmovl\",\"movd\",\"seta\",\"por\",\"shufps\",\"setb\",\"cmova\",\"divss\",\"punpckldq\",\"orq\",\"setg\",\"cmovns\",\"pshufd\",\"punpckhdq\",\"shufpd\",\"setae\",\"cmovs\",\"jno\",\"andq\",\"addl\",\"movswl\",\"seto\",\"divq\",\"movhlps\",\"setl\",\"ror\",\"psrldq\",\"xorb\",\"notq\",\"idiv\",\"rol\",\"movsd\",\"cvtsi2sd\",\"comisd\",\"fstp\",\"cvttsd2si\",\"mulsd\",\"addsd\",\"subsd\",\"fxch\",\"fstpt\",\"movapd\",\"fcomi\",\"fucomip\",\"jnp\",\"jp\",\"fldt\",\"fucomi\",\"subl\",\"maxsd\",\"divsd\",\"btcq\",\"setge\",\"setle\",\"cmovge\"],\"xaxis\":\"x\",\"y\":[5190.0,1268.0,789.0,796.0,856.0,759.0,838.0,702.0,475.0,563.0,508.0,283.0,477.0,449.0,235.0,222.0,153.0,190.0,127.0,211.0,154.0,0.0,98.0,111.0,91.0,11.0,26.0,87.0,59.0,68.0,82.0,0.0,46.0,61.0,19.0,12.0,12.0,65.0,97.0,56.0,75.0,5.0,56.0,63.0,40.0,0.0,21.0,19.0,46.0,3.0,8.0,0.0,48.0,6.0,16.0,28.0,40.0,7.0,73.0,1.0,21.0,4.0,0.0,0.0,43.0,0.0,5.0,15.0,16.0,22.0,0.0,1.0,18.0,0.0,12.0,4.0,0.0,0.0,4.0,4.0,1.0,0.0,8.0,7.0,0.0,0.0,0.0,2.0,1.0,0.0,2.0,0.0,5.0,0.0,0.0,5.0,4.0,1.0,0.0,0.0,3.0,1.0,0.0,2.0,0.0,0.0,2.0,0.0,0.0,0.0,3.0,3.0,2.0,0.0,0.0,0.0,0.0,1.0,0.0,2.0,1.0,1.0,4.0,1.0,0.0,0.0,0.0,0.0,0.0,3.0,1.0,0.0,0.0,0.0,0.0,0.0,0.0,0.0,0.0,0.0,0.0,0.0,0.0,0.0,0.0,0.0,0.0,0.0,0.0,0.0,0.0,0.0,0.0,0.0,0.0,0.0],\"yaxis\":\"y\",\"type\":\"histogram\"},{\"alignmentgroup\":\"True\",\"bingroup\":\"x\",\"histfunc\":\"sum\",\"histnorm\":\"percent\",\"hovertemplate\":\"variable=sort<br>index=%{x}<br>percent of sum of value=%{y}<extra></extra>\",\"legendgroup\":\"sort\",\"marker\":{\"color\":\"#00cc96\",\"pattern\":{\"shape\":\"\"}},\"name\":\"sort\",\"offsetgroup\":\"sort\",\"orientation\":\"v\",\"showlegend\":true,\"x\":[\"mov\",\"call\",\"test\",\"je\",\"cmp\",\"jmp\",\"lea\",\"jne\",\"add\",\"xor\",\"nopl\",\"movzbl\",\"push\",\"pop\",\"sub\",\"movq\",\"cmpb\",\"movb\",\"and\",\"bnd\",\"nop\",\"punpcklwd\",\"shl\",\"nopw\",\"jle\",\"movdqu\",\"movdqa\",\"jbe\",\"jg\",\"ja\",\"cmpq\",\"punpckhwd\",\"movl\",\"or\",\"jl\",\"movups\",\"movabs\",\"shr\",\"movslq\",\"js\",\"jae\",\"jo\",\"xchg\",\"movaps\",\"cs\",\"pand\",\"jb\",\"jge\",\"sete\",\"cmovae\",\"imul\",\"comiss\",\"cmpl\",\"pxor\",\"sar\",\"movsbl\",\"data16\",\"jns\",\"testb\",\"cmovle\",\"cmovne\",\"mul\",\"packuswb\",\"movss\",\"setne\",\"punpcklqdq\",\"movzwl\",\"addq\",\"not\",\"cmove\",\"mulss\",\"div\",\"notrack\",\"cvtsi2ss\",\"orb\",\"sbb\",\"addss\",\"cvttss2si\",\"orl\",\"rep\",\"neg\",\"movhps\",\"andb\",\"bt\",\"btc\",\"subss\",\"pcmpeqd\",\"cmpw\",\"movsbq\",\"subq\",\"cmovg\",\"pandn\",\"cmovbe\",\"paddq\",\"testl\",\"setbe\",\"cmovb\",\"adc\",\"orw\",\"movw\",\"andl\",\"cmovl\",\"movd\",\"seta\",\"por\",\"shufps\",\"setb\",\"cmova\",\"divss\",\"punpckldq\",\"orq\",\"setg\",\"cmovns\",\"pshufd\",\"punpckhdq\",\"shufpd\",\"setae\",\"cmovs\",\"jno\",\"andq\",\"addl\",\"movswl\",\"seto\",\"divq\",\"movhlps\",\"setl\",\"ror\",\"psrldq\",\"xorb\",\"notq\",\"idiv\",\"rol\",\"movsd\",\"cvtsi2sd\",\"comisd\",\"fstp\",\"cvttsd2si\",\"mulsd\",\"addsd\",\"subsd\",\"fxch\",\"fstpt\",\"movapd\",\"fcomi\",\"fucomip\",\"jnp\",\"jp\",\"fldt\",\"fucomi\",\"subl\",\"maxsd\",\"divsd\",\"btcq\",\"setge\",\"setle\",\"cmovge\"],\"xaxis\":\"x\",\"y\":[4599.0,948.0,562.0,609.0,738.0,597.0,844.0,501.0,601.0,775.0,399.0,298.0,414.0,322.0,360.0,148.0,172.0,126.0,140.0,234.0,153.0,0.0,89.0,75.0,20.0,38.0,19.0,139.0,31.0,109.0,62.0,0.0,34.0,71.0,0.0,61.0,35.0,82.0,50.0,38.0,54.0,11.0,38.0,28.0,45.0,0.0,41.0,1.0,38.0,7.0,13.0,17.0,13.0,32.0,25.0,37.0,31.0,10.0,11.0,1.0,9.0,19.0,0.0,10.0,26.0,0.0,6.0,9.0,24.0,14.0,8.0,7.0,10.0,10.0,6.0,16.0,6.0,6.0,0.0,10.0,14.0,0.0,3.0,3.0,5.0,3.0,0.0,1.0,0.0,6.0,1.0,0.0,16.0,0.0,2.0,3.0,8.0,2.0,0.0,2.0,4.0,1.0,0.0,6.0,0.0,0.0,6.0,12.0,2.0,0.0,2.0,1.0,1.0,0.0,0.0,0.0,8.0,3.0,2.0,0.0,1.0,0.0,2.0,2.0,0.0,0.0,21.0,0.0,0.0,0.0,0.0,44.0,20.0,19.0,14.0,12.0,8.0,8.0,7.0,4.0,4.0,3.0,3.0,2.0,2.0,2.0,1.0,1.0,1.0,1.0,1.0,1.0,1.0,0.0,0.0,0.0],\"yaxis\":\"y\",\"type\":\"histogram\"},{\"alignmentgroup\":\"True\",\"bingroup\":\"x\",\"histfunc\":\"sum\",\"histnorm\":\"percent\",\"hovertemplate\":\"variable=diff<br>index=%{x}<br>percent of sum of value=%{y}<extra></extra>\",\"legendgroup\":\"diff\",\"marker\":{\"color\":\"#ab63fa\",\"pattern\":{\"shape\":\"\"}},\"name\":\"diff\",\"offsetgroup\":\"diff\",\"orientation\":\"v\",\"showlegend\":true,\"x\":[\"mov\",\"call\",\"test\",\"je\",\"cmp\",\"jmp\",\"lea\",\"jne\",\"add\",\"xor\",\"nopl\",\"movzbl\",\"push\",\"pop\",\"sub\",\"movq\",\"cmpb\",\"movb\",\"and\",\"bnd\",\"nop\",\"punpcklwd\",\"shl\",\"nopw\",\"jle\",\"movdqu\",\"movdqa\",\"jbe\",\"jg\",\"ja\",\"cmpq\",\"punpckhwd\",\"movl\",\"or\",\"jl\",\"movups\",\"movabs\",\"shr\",\"movslq\",\"js\",\"jae\",\"jo\",\"xchg\",\"movaps\",\"cs\",\"pand\",\"jb\",\"jge\",\"sete\",\"cmovae\",\"imul\",\"comiss\",\"cmpl\",\"pxor\",\"sar\",\"movsbl\",\"data16\",\"jns\",\"testb\",\"cmovle\",\"cmovne\",\"mul\",\"packuswb\",\"movss\",\"setne\",\"punpcklqdq\",\"movzwl\",\"addq\",\"not\",\"cmove\",\"mulss\",\"div\",\"notrack\",\"cvtsi2ss\",\"orb\",\"sbb\",\"addss\",\"cvttss2si\",\"orl\",\"rep\",\"neg\",\"movhps\",\"andb\",\"bt\",\"btc\",\"subss\",\"pcmpeqd\",\"cmpw\",\"movsbq\",\"subq\",\"cmovg\",\"pandn\",\"cmovbe\",\"paddq\",\"testl\",\"setbe\",\"cmovb\",\"adc\",\"orw\",\"movw\",\"andl\",\"cmovl\",\"movd\",\"seta\",\"por\",\"shufps\",\"setb\",\"cmova\",\"divss\",\"punpckldq\",\"orq\",\"setg\",\"cmovns\",\"pshufd\",\"punpckhdq\",\"shufpd\",\"setae\",\"cmovs\",\"jno\",\"andq\",\"addl\",\"movswl\",\"seto\",\"divq\",\"movhlps\",\"setl\",\"ror\",\"psrldq\",\"xorb\",\"notq\",\"idiv\",\"rol\",\"movsd\",\"cvtsi2sd\",\"comisd\",\"fstp\",\"cvttsd2si\",\"mulsd\",\"addsd\",\"subsd\",\"fxch\",\"fstpt\",\"movapd\",\"fcomi\",\"fucomip\",\"jnp\",\"jp\",\"fldt\",\"fucomi\",\"subl\",\"maxsd\",\"divsd\",\"btcq\",\"setge\",\"setle\",\"cmovge\"],\"xaxis\":\"x\",\"y\":[5869.0,1141.0,938.0,1079.0,1108.0,972.0,1131.0,706.0,661.0,694.0,487.0,353.0,494.0,441.0,489.0,151.0,274.0,299.0,145.0,220.0,159.0,0.0,49.0,115.0,66.0,4.0,24.0,91.0,65.0,93.0,66.0,0.0,100.0,27.0,36.0,12.0,48.0,64.0,75.0,62.0,118.0,6.0,56.0,42.0,44.0,0.0,33.0,39.0,58.0,6.0,49.0,15.0,78.0,6.0,50.0,25.0,29.0,23.0,35.0,12.0,31.0,5.0,0.0,8.0,44.0,0.0,4.0,21.0,8.0,33.0,4.0,27.0,15.0,6.0,0.0,9.0,4.0,6.0,0.0,7.0,18.0,0.0,1.0,4.0,3.0,3.0,0.0,0.0,0.0,3.0,5.0,0.0,2.0,0.0,1.0,2.0,3.0,1.0,0.0,0.0,3.0,8.0,0.0,8.0,0.0,0.0,1.0,11.0,1.0,0.0,7.0,4.0,3.0,0.0,0.0,0.0,1.0,4.0,1.0,0.0,1.0,0.0,4.0,4.0,0.0,9.0,4.0,0.0,0.0,0.0,2.0,6.0,0.0,0.0,0.0,0.0,0.0,0.0,0.0,0.0,0.0,0.0,0.0,0.0,0.0,0.0,0.0,0.0,0.0,0.0,0.0,0.0,0.0,8.0,6.0,6.0],\"yaxis\":\"y\",\"type\":\"histogram\"}],                        {\"template\":{\"data\":{\"histogram2dcontour\":[{\"type\":\"histogram2dcontour\",\"colorbar\":{\"outlinewidth\":0,\"ticks\":\"\"},\"colorscale\":[[0.0,\"#0d0887\"],[0.1111111111111111,\"#46039f\"],[0.2222222222222222,\"#7201a8\"],[0.3333333333333333,\"#9c179e\"],[0.4444444444444444,\"#bd3786\"],[0.5555555555555556,\"#d8576b\"],[0.6666666666666666,\"#ed7953\"],[0.7777777777777778,\"#fb9f3a\"],[0.8888888888888888,\"#fdca26\"],[1.0,\"#f0f921\"]]}],\"choropleth\":[{\"type\":\"choropleth\",\"colorbar\":{\"outlinewidth\":0,\"ticks\":\"\"}}],\"histogram2d\":[{\"type\":\"histogram2d\",\"colorbar\":{\"outlinewidth\":0,\"ticks\":\"\"},\"colorscale\":[[0.0,\"#0d0887\"],[0.1111111111111111,\"#46039f\"],[0.2222222222222222,\"#7201a8\"],[0.3333333333333333,\"#9c179e\"],[0.4444444444444444,\"#bd3786\"],[0.5555555555555556,\"#d8576b\"],[0.6666666666666666,\"#ed7953\"],[0.7777777777777778,\"#fb9f3a\"],[0.8888888888888888,\"#fdca26\"],[1.0,\"#f0f921\"]]}],\"heatmap\":[{\"type\":\"heatmap\",\"colorbar\":{\"outlinewidth\":0,\"ticks\":\"\"},\"colorscale\":[[0.0,\"#0d0887\"],[0.1111111111111111,\"#46039f\"],[0.2222222222222222,\"#7201a8\"],[0.3333333333333333,\"#9c179e\"],[0.4444444444444444,\"#bd3786\"],[0.5555555555555556,\"#d8576b\"],[0.6666666666666666,\"#ed7953\"],[0.7777777777777778,\"#fb9f3a\"],[0.8888888888888888,\"#fdca26\"],[1.0,\"#f0f921\"]]}],\"heatmapgl\":[{\"type\":\"heatmapgl\",\"colorbar\":{\"outlinewidth\":0,\"ticks\":\"\"},\"colorscale\":[[0.0,\"#0d0887\"],[0.1111111111111111,\"#46039f\"],[0.2222222222222222,\"#7201a8\"],[0.3333333333333333,\"#9c179e\"],[0.4444444444444444,\"#bd3786\"],[0.5555555555555556,\"#d8576b\"],[0.6666666666666666,\"#ed7953\"],[0.7777777777777778,\"#fb9f3a\"],[0.8888888888888888,\"#fdca26\"],[1.0,\"#f0f921\"]]}],\"contourcarpet\":[{\"type\":\"contourcarpet\",\"colorbar\":{\"outlinewidth\":0,\"ticks\":\"\"}}],\"contour\":[{\"type\":\"contour\",\"colorbar\":{\"outlinewidth\":0,\"ticks\":\"\"},\"colorscale\":[[0.0,\"#0d0887\"],[0.1111111111111111,\"#46039f\"],[0.2222222222222222,\"#7201a8\"],[0.3333333333333333,\"#9c179e\"],[0.4444444444444444,\"#bd3786\"],[0.5555555555555556,\"#d8576b\"],[0.6666666666666666,\"#ed7953\"],[0.7777777777777778,\"#fb9f3a\"],[0.8888888888888888,\"#fdca26\"],[1.0,\"#f0f921\"]]}],\"surface\":[{\"type\":\"surface\",\"colorbar\":{\"outlinewidth\":0,\"ticks\":\"\"},\"colorscale\":[[0.0,\"#0d0887\"],[0.1111111111111111,\"#46039f\"],[0.2222222222222222,\"#7201a8\"],[0.3333333333333333,\"#9c179e\"],[0.4444444444444444,\"#bd3786\"],[0.5555555555555556,\"#d8576b\"],[0.6666666666666666,\"#ed7953\"],[0.7777777777777778,\"#fb9f3a\"],[0.8888888888888888,\"#fdca26\"],[1.0,\"#f0f921\"]]}],\"mesh3d\":[{\"type\":\"mesh3d\",\"colorbar\":{\"outlinewidth\":0,\"ticks\":\"\"}}],\"scatter\":[{\"fillpattern\":{\"fillmode\":\"overlay\",\"size\":10,\"solidity\":0.2},\"type\":\"scatter\"}],\"parcoords\":[{\"type\":\"parcoords\",\"line\":{\"colorbar\":{\"outlinewidth\":0,\"ticks\":\"\"}}}],\"scatterpolargl\":[{\"type\":\"scatterpolargl\",\"marker\":{\"colorbar\":{\"outlinewidth\":0,\"ticks\":\"\"}}}],\"bar\":[{\"error_x\":{\"color\":\"#2a3f5f\"},\"error_y\":{\"color\":\"#2a3f5f\"},\"marker\":{\"line\":{\"color\":\"#E5ECF6\",\"width\":0.5},\"pattern\":{\"fillmode\":\"overlay\",\"size\":10,\"solidity\":0.2}},\"type\":\"bar\"}],\"scattergeo\":[{\"type\":\"scattergeo\",\"marker\":{\"colorbar\":{\"outlinewidth\":0,\"ticks\":\"\"}}}],\"scatterpolar\":[{\"type\":\"scatterpolar\",\"marker\":{\"colorbar\":{\"outlinewidth\":0,\"ticks\":\"\"}}}],\"histogram\":[{\"marker\":{\"pattern\":{\"fillmode\":\"overlay\",\"size\":10,\"solidity\":0.2}},\"type\":\"histogram\"}],\"scattergl\":[{\"type\":\"scattergl\",\"marker\":{\"colorbar\":{\"outlinewidth\":0,\"ticks\":\"\"}}}],\"scatter3d\":[{\"type\":\"scatter3d\",\"line\":{\"colorbar\":{\"outlinewidth\":0,\"ticks\":\"\"}},\"marker\":{\"colorbar\":{\"outlinewidth\":0,\"ticks\":\"\"}}}],\"scattermapbox\":[{\"type\":\"scattermapbox\",\"marker\":{\"colorbar\":{\"outlinewidth\":0,\"ticks\":\"\"}}}],\"scatterternary\":[{\"type\":\"scatterternary\",\"marker\":{\"colorbar\":{\"outlinewidth\":0,\"ticks\":\"\"}}}],\"scattercarpet\":[{\"type\":\"scattercarpet\",\"marker\":{\"colorbar\":{\"outlinewidth\":0,\"ticks\":\"\"}}}],\"carpet\":[{\"aaxis\":{\"endlinecolor\":\"#2a3f5f\",\"gridcolor\":\"white\",\"linecolor\":\"white\",\"minorgridcolor\":\"white\",\"startlinecolor\":\"#2a3f5f\"},\"baxis\":{\"endlinecolor\":\"#2a3f5f\",\"gridcolor\":\"white\",\"linecolor\":\"white\",\"minorgridcolor\":\"white\",\"startlinecolor\":\"#2a3f5f\"},\"type\":\"carpet\"}],\"table\":[{\"cells\":{\"fill\":{\"color\":\"#EBF0F8\"},\"line\":{\"color\":\"white\"}},\"header\":{\"fill\":{\"color\":\"#C8D4E3\"},\"line\":{\"color\":\"white\"}},\"type\":\"table\"}],\"barpolar\":[{\"marker\":{\"line\":{\"color\":\"#E5ECF6\",\"width\":0.5},\"pattern\":{\"fillmode\":\"overlay\",\"size\":10,\"solidity\":0.2}},\"type\":\"barpolar\"}],\"pie\":[{\"automargin\":true,\"type\":\"pie\"}]},\"layout\":{\"autotypenumbers\":\"strict\",\"colorway\":[\"#636efa\",\"#EF553B\",\"#00cc96\",\"#ab63fa\",\"#FFA15A\",\"#19d3f3\",\"#FF6692\",\"#B6E880\",\"#FF97FF\",\"#FECB52\"],\"font\":{\"color\":\"#2a3f5f\"},\"hovermode\":\"closest\",\"hoverlabel\":{\"align\":\"left\"},\"paper_bgcolor\":\"white\",\"plot_bgcolor\":\"#E5ECF6\",\"polar\":{\"bgcolor\":\"#E5ECF6\",\"angularaxis\":{\"gridcolor\":\"white\",\"linecolor\":\"white\",\"ticks\":\"\"},\"radialaxis\":{\"gridcolor\":\"white\",\"linecolor\":\"white\",\"ticks\":\"\"}},\"ternary\":{\"bgcolor\":\"#E5ECF6\",\"aaxis\":{\"gridcolor\":\"white\",\"linecolor\":\"white\",\"ticks\":\"\"},\"baxis\":{\"gridcolor\":\"white\",\"linecolor\":\"white\",\"ticks\":\"\"},\"caxis\":{\"gridcolor\":\"white\",\"linecolor\":\"white\",\"ticks\":\"\"}},\"coloraxis\":{\"colorbar\":{\"outlinewidth\":0,\"ticks\":\"\"}},\"colorscale\":{\"sequential\":[[0.0,\"#0d0887\"],[0.1111111111111111,\"#46039f\"],[0.2222222222222222,\"#7201a8\"],[0.3333333333333333,\"#9c179e\"],[0.4444444444444444,\"#bd3786\"],[0.5555555555555556,\"#d8576b\"],[0.6666666666666666,\"#ed7953\"],[0.7777777777777778,\"#fb9f3a\"],[0.8888888888888888,\"#fdca26\"],[1.0,\"#f0f921\"]],\"sequentialminus\":[[0.0,\"#0d0887\"],[0.1111111111111111,\"#46039f\"],[0.2222222222222222,\"#7201a8\"],[0.3333333333333333,\"#9c179e\"],[0.4444444444444444,\"#bd3786\"],[0.5555555555555556,\"#d8576b\"],[0.6666666666666666,\"#ed7953\"],[0.7777777777777778,\"#fb9f3a\"],[0.8888888888888888,\"#fdca26\"],[1.0,\"#f0f921\"]],\"diverging\":[[0,\"#8e0152\"],[0.1,\"#c51b7d\"],[0.2,\"#de77ae\"],[0.3,\"#f1b6da\"],[0.4,\"#fde0ef\"],[0.5,\"#f7f7f7\"],[0.6,\"#e6f5d0\"],[0.7,\"#b8e186\"],[0.8,\"#7fbc41\"],[0.9,\"#4d9221\"],[1,\"#276419\"]]},\"xaxis\":{\"gridcolor\":\"white\",\"linecolor\":\"white\",\"ticks\":\"\",\"title\":{\"standoff\":15},\"zerolinecolor\":\"white\",\"automargin\":true,\"zerolinewidth\":2},\"yaxis\":{\"gridcolor\":\"white\",\"linecolor\":\"white\",\"ticks\":\"\",\"title\":{\"standoff\":15},\"zerolinecolor\":\"white\",\"automargin\":true,\"zerolinewidth\":2},\"scene\":{\"xaxis\":{\"backgroundcolor\":\"#E5ECF6\",\"gridcolor\":\"white\",\"linecolor\":\"white\",\"showbackground\":true,\"ticks\":\"\",\"zerolinecolor\":\"white\",\"gridwidth\":2},\"yaxis\":{\"backgroundcolor\":\"#E5ECF6\",\"gridcolor\":\"white\",\"linecolor\":\"white\",\"showbackground\":true,\"ticks\":\"\",\"zerolinecolor\":\"white\",\"gridwidth\":2},\"zaxis\":{\"backgroundcolor\":\"#E5ECF6\",\"gridcolor\":\"white\",\"linecolor\":\"white\",\"showbackground\":true,\"ticks\":\"\",\"zerolinecolor\":\"white\",\"gridwidth\":2}},\"shapedefaults\":{\"line\":{\"color\":\"#2a3f5f\"}},\"annotationdefaults\":{\"arrowcolor\":\"#2a3f5f\",\"arrowhead\":0,\"arrowwidth\":1},\"geo\":{\"bgcolor\":\"white\",\"landcolor\":\"#E5ECF6\",\"subunitcolor\":\"white\",\"showland\":true,\"showlakes\":true,\"lakecolor\":\"white\"},\"title\":{\"x\":0.05},\"mapbox\":{\"style\":\"light\"}}},\"xaxis\":{\"anchor\":\"y\",\"domain\":[0.0,1.0],\"title\":{\"text\":\"index\"}},\"yaxis\":{\"anchor\":\"x\",\"domain\":[0.0,1.0],\"title\":{\"text\":\"percent of sum of value\"}},\"legend\":{\"title\":{\"text\":\"variable\"},\"tracegroupgap\":0,\"orientation\":\"h\",\"yanchor\":\"bottom\",\"y\":1.02,\"xanchor\":\"left\",\"x\":0},\"margin\":{\"t\":60},\"barmode\":\"group\",\"width\":3000},                        {\"responsive\": true}                    ).then(function(){\n",
       "                            \n",
       "var gd = document.getElementById('b0d6aca6-0755-4e3b-8314-824a97435608');\n",
       "var x = new MutationObserver(function (mutations, observer) {{\n",
       "        var display = window.getComputedStyle(gd).display;\n",
       "        if (!display || display === 'none') {{\n",
       "            console.log([gd, 'removed!']);\n",
       "            Plotly.purge(gd);\n",
       "            observer.disconnect();\n",
       "        }}\n",
       "}});\n",
       "\n",
       "// Listen for the removal of the full notebook cells\n",
       "var notebookContainer = gd.closest('#notebook-container');\n",
       "if (notebookContainer) {{\n",
       "    x.observe(notebookContainer, {childList: true});\n",
       "}}\n",
       "\n",
       "// Listen for the clearing of the current output cell\n",
       "var outputEl = gd.closest('.output');\n",
       "if (outputEl) {{\n",
       "    x.observe(outputEl, {childList: true});\n",
       "}}\n",
       "\n",
       "                        })                };                });            </script>        </div>"
      ]
     },
     "metadata": {},
     "output_type": "display_data"
    }
   ],
   "source": [
    "fig = px.histogram(summary, x=summary.index, y=summary.columns, barmode='group', histnorm='percent', width=3000)\n",
    "fig.update_layout(legend=dict(\n",
    "    orientation=\"h\",\n",
    "    yanchor=\"bottom\",\n",
    "    y=1.02,\n",
    "    xanchor=\"left\",\n",
    "    x=0\n",
    "))"
   ]
  },
  {
   "cell_type": "code",
   "execution_count": null,
   "id": "c7897af6",
   "metadata": {},
   "outputs": [],
   "source": []
  }
 ],
 "metadata": {
  "kernelspec": {
   "display_name": "Python 3 (ipykernel)",
   "language": "python",
   "name": "python3"
  },
  "language_info": {
   "codemirror_mode": {
    "name": "ipython",
    "version": 3
   },
   "file_extension": ".py",
   "mimetype": "text/x-python",
   "name": "python",
   "nbconvert_exporter": "python",
   "pygments_lexer": "ipython3",
   "version": "3.10.6"
  },
  "vscode": {
   "interpreter": {
    "hash": "322be866e2acc292c1b7e404016f8a379010d614270011e2c1a31ae40d2621a7"
   }
  }
 },
 "nbformat": 4,
 "nbformat_minor": 5
}
